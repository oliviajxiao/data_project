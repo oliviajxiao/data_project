{
 "cells": [
  {
   "cell_type": "markdown",
   "metadata": {
    "slideshow": {
     "slide_type": "slide"
    }
   },
   "source": [
    "# Pandas\n",
    "\n",
    "This notebook covers a _lot_, go through it carefully and _read_ the code. Then work on _understanding_ it. Then apply it to your data set. Then once you've done that, you'll probably _actually_ understand it.\n",
    "\n",
    "Messing about with the [NSW Penalty data](http://www.osr.nsw.gov.au/sites/default/files/file_manager/penalty_data_set_0.csv)"
   ]
  },
  {
   "cell_type": "markdown",
   "metadata": {
    "slideshow": {
     "slide_type": "slide"
    }
   },
   "source": [
    "`imports`, you've seen this before!"
   ]
  },
  {
   "cell_type": "code",
   "execution_count": 1,
   "metadata": {
    "slideshow": {
     "slide_type": "-"
    }
   },
   "outputs": [],
   "source": [
    "import matplotlib\n",
    "import matplotlib.pyplot as plt\n",
    "import numpy as np\n",
    "import pandas as pd\n",
    "import os\n",
    "from datetime import datetime\n"
   ]
  },
  {
   "cell_type": "markdown",
   "metadata": {
    "slideshow": {
     "slide_type": "fragment"
    }
   },
   "source": [
    "Some magic that tells jupyter to put graphs and things in the notebook instead of the default behaviour which is to save it as a file."
   ]
  },
  {
   "cell_type": "code",
   "execution_count": 2,
   "metadata": {
    "slideshow": {
     "slide_type": "-"
    }
   },
   "outputs": [],
   "source": [
    "%matplotlib inline"
   ]
  },
  {
   "cell_type": "markdown",
   "metadata": {},
   "source": [
    "Set the size of the plots that will come out when we ask for them. Annoyingly, these are in inches. Whatever an \"inch\" is"
   ]
  },
  {
   "cell_type": "code",
   "execution_count": 3,
   "metadata": {},
   "outputs": [],
   "source": [
    "plt.rcParams[\"figure.figsize\"] = (10, 5)\n"
   ]
  },
  {
   "cell_type": "code",
   "execution_count": 4,
   "metadata": {
    "slideshow": {
     "slide_type": "skip"
    }
   },
   "outputs": [],
   "source": [
    "saved_style_state = matplotlib.rcParams.copy()  # give us a style state to go back to\n"
   ]
  },
  {
   "cell_type": "markdown",
   "metadata": {
    "slideshow": {
     "slide_type": "slide"
    }
   },
   "source": [
    "Let's check to see if we've already downloaded the data. It's a big file, so we don't want to do it every time we run the code. Even just loading from file takes a few seconds!\n",
    "\n",
    "Pandas is pretty smart, it can get data from the internet just as easily as from the file system, it just takes a bit longer.\n"
   ]
  },
  {
   "cell_type": "code",
   "execution_count": 5,
   "metadata": {
    "slideshow": {
     "slide_type": "fragment"
    }
   },
   "outputs": [
    {
     "name": "stdout",
     "output_type": "stream",
     "text": [
      "done\n"
     ]
    }
   ],
   "source": [
    "# if os.path.isfile(\"penalty_data_set_0.csv\"):\n",
    "#     filepath = \"penalty_data_set_0.csv\"\n",
    "#     print(\"loading from file\")\n",
    "# else:\n",
    "#     filepath = \"http://www.osr.nsw.gov.au/sites/default/files/file_manager/penalty_data_set_0.csv\"\n",
    "#     print(\"loading from the internet\")\n",
    "\n",
    "listings_data = pd.read_csv(\"listings.csv\")\n",
    "filepath = \"listings.csv\"\n",
    "print(\"done\")\n"
   ]
  },
  {
   "cell_type": "code",
   "execution_count": 6,
   "metadata": {
    "slideshow": {
     "slide_type": "slide"
    }
   },
   "outputs": [
    {
     "data": {
      "text/html": [
       "<div>\n",
       "<style scoped>\n",
       "    .dataframe tbody tr th:only-of-type {\n",
       "        vertical-align: middle;\n",
       "    }\n",
       "\n",
       "    .dataframe tbody tr th {\n",
       "        vertical-align: top;\n",
       "    }\n",
       "\n",
       "    .dataframe thead th {\n",
       "        text-align: right;\n",
       "    }\n",
       "</style>\n",
       "<table border=\"1\" class=\"dataframe\">\n",
       "  <thead>\n",
       "    <tr style=\"text-align: right;\">\n",
       "      <th></th>\n",
       "      <th>id</th>\n",
       "      <th>listing_url</th>\n",
       "      <th>scrape_id</th>\n",
       "      <th>last_scraped</th>\n",
       "      <th>source</th>\n",
       "      <th>name</th>\n",
       "      <th>description</th>\n",
       "      <th>neighborhood_overview</th>\n",
       "      <th>picture_url</th>\n",
       "      <th>host_id</th>\n",
       "      <th>...</th>\n",
       "      <th>review_scores_communication</th>\n",
       "      <th>review_scores_location</th>\n",
       "      <th>review_scores_value</th>\n",
       "      <th>license</th>\n",
       "      <th>instant_bookable</th>\n",
       "      <th>calculated_host_listings_count</th>\n",
       "      <th>calculated_host_listings_count_entire_homes</th>\n",
       "      <th>calculated_host_listings_count_private_rooms</th>\n",
       "      <th>calculated_host_listings_count_shared_rooms</th>\n",
       "      <th>reviews_per_month</th>\n",
       "    </tr>\n",
       "  </thead>\n",
       "  <tbody>\n",
       "    <tr>\n",
       "      <th>0</th>\n",
       "      <td>11156.0</td>\n",
       "      <td>https://www.airbnb.com/rooms/11156</td>\n",
       "      <td>2.020000e+13</td>\n",
       "      <td>14/3/2023</td>\n",
       "      <td>city scrape</td>\n",
       "      <td>An Oasis in the City</td>\n",
       "      <td>Very central to the city which can be reached ...</td>\n",
       "      <td>It is very close to everything and everywhere,...</td>\n",
       "      <td>https://a0.muscache.com/pictures/2797669/17895...</td>\n",
       "      <td>40855</td>\n",
       "      <td>...</td>\n",
       "      <td>4.76</td>\n",
       "      <td>4.82</td>\n",
       "      <td>4.71</td>\n",
       "      <td>NaN</td>\n",
       "      <td>f</td>\n",
       "      <td>1</td>\n",
       "      <td>0</td>\n",
       "      <td>1</td>\n",
       "      <td>0</td>\n",
       "      <td>1.21</td>\n",
       "    </tr>\n",
       "    <tr>\n",
       "      <th>1</th>\n",
       "      <td>15253.0</td>\n",
       "      <td>https://www.airbnb.com/rooms/15253</td>\n",
       "      <td>2.020000e+13</td>\n",
       "      <td>13/3/2023</td>\n",
       "      <td>city scrape</td>\n",
       "      <td>Unique Designer Rooftop Apartment in City Loca...</td>\n",
       "      <td>You will be staying in a unique duplex apartme...</td>\n",
       "      <td>The location is really central and there is nu...</td>\n",
       "      <td>https://a0.muscache.com/pictures/miso/Hosting-...</td>\n",
       "      <td>59850</td>\n",
       "      <td>...</td>\n",
       "      <td>4.72</td>\n",
       "      <td>4.75</td>\n",
       "      <td>4.53</td>\n",
       "      <td>PID-STRA-24061-7</td>\n",
       "      <td>t</td>\n",
       "      <td>2</td>\n",
       "      <td>1</td>\n",
       "      <td>1</td>\n",
       "      <td>0</td>\n",
       "      <td>3.58</td>\n",
       "    </tr>\n",
       "    <tr>\n",
       "      <th>2</th>\n",
       "      <td>135691.0</td>\n",
       "      <td>https://www.airbnb.com/rooms/135691</td>\n",
       "      <td>2.020000e+13</td>\n",
       "      <td>13/3/2023</td>\n",
       "      <td>city scrape</td>\n",
       "      <td>Private room for your Bondi holiday</td>\n",
       "      <td>Stylish and eclectically decorated two bedroom...</td>\n",
       "      <td>The area:&lt;br /&gt;A brisk 10 minute walk to Bondi...</td>\n",
       "      <td>https://a0.muscache.com/pictures/10544861/d342...</td>\n",
       "      <td>501973</td>\n",
       "      <td>...</td>\n",
       "      <td>4.88</td>\n",
       "      <td>4.79</td>\n",
       "      <td>4.59</td>\n",
       "      <td>PID-STRA-15719</td>\n",
       "      <td>f</td>\n",
       "      <td>1</td>\n",
       "      <td>0</td>\n",
       "      <td>1</td>\n",
       "      <td>0</td>\n",
       "      <td>0.26</td>\n",
       "    </tr>\n",
       "    <tr>\n",
       "      <th>3</th>\n",
       "      <td>44545.0</td>\n",
       "      <td>https://www.airbnb.com/rooms/44545</td>\n",
       "      <td>2.020000e+13</td>\n",
       "      <td>14/3/2023</td>\n",
       "      <td>previous scrape</td>\n",
       "      <td>Sunny Darlinghurst Warehouse Apartment</td>\n",
       "      <td>Sunny warehouse/loft apartment in the heart of...</td>\n",
       "      <td>Darlinghurst is home to some of Sydney's best ...</td>\n",
       "      <td>https://a0.muscache.com/pictures/a88d8e14-4f63...</td>\n",
       "      <td>112237</td>\n",
       "      <td>...</td>\n",
       "      <td>4.96</td>\n",
       "      <td>4.93</td>\n",
       "      <td>4.77</td>\n",
       "      <td>NaN</td>\n",
       "      <td>f</td>\n",
       "      <td>1</td>\n",
       "      <td>1</td>\n",
       "      <td>0</td>\n",
       "      <td>0</td>\n",
       "      <td>0.50</td>\n",
       "    </tr>\n",
       "    <tr>\n",
       "      <th>4</th>\n",
       "      <td>58506.0</td>\n",
       "      <td>https://www.airbnb.com/rooms/58506</td>\n",
       "      <td>2.020000e+13</td>\n",
       "      <td>14/3/2023</td>\n",
       "      <td>city scrape</td>\n",
       "      <td>Studio Yindi @ Mosman, Sydney</td>\n",
       "      <td>An open plan apartment, adjacent to a spacious...</td>\n",
       "      <td>Mosman is a smart, middle to upper class subur...</td>\n",
       "      <td>https://a0.muscache.com/pictures/23497720/d30f...</td>\n",
       "      <td>279955</td>\n",
       "      <td>...</td>\n",
       "      <td>4.91</td>\n",
       "      <td>4.74</td>\n",
       "      <td>4.70</td>\n",
       "      <td>PID-STRA-2810</td>\n",
       "      <td>f</td>\n",
       "      <td>1</td>\n",
       "      <td>1</td>\n",
       "      <td>0</td>\n",
       "      <td>0</td>\n",
       "      <td>2.47</td>\n",
       "    </tr>\n",
       "  </tbody>\n",
       "</table>\n",
       "<p>5 rows × 75 columns</p>\n",
       "</div>"
      ],
      "text/plain": [
       "         id                          listing_url     scrape_id last_scraped  \\\n",
       "0   11156.0   https://www.airbnb.com/rooms/11156  2.020000e+13    14/3/2023   \n",
       "1   15253.0   https://www.airbnb.com/rooms/15253  2.020000e+13    13/3/2023   \n",
       "2  135691.0  https://www.airbnb.com/rooms/135691  2.020000e+13    13/3/2023   \n",
       "3   44545.0   https://www.airbnb.com/rooms/44545  2.020000e+13    14/3/2023   \n",
       "4   58506.0   https://www.airbnb.com/rooms/58506  2.020000e+13    14/3/2023   \n",
       "\n",
       "            source                                               name  \\\n",
       "0      city scrape                               An Oasis in the City   \n",
       "1      city scrape  Unique Designer Rooftop Apartment in City Loca...   \n",
       "2      city scrape                Private room for your Bondi holiday   \n",
       "3  previous scrape             Sunny Darlinghurst Warehouse Apartment   \n",
       "4      city scrape                      Studio Yindi @ Mosman, Sydney   \n",
       "\n",
       "                                         description  \\\n",
       "0  Very central to the city which can be reached ...   \n",
       "1  You will be staying in a unique duplex apartme...   \n",
       "2  Stylish and eclectically decorated two bedroom...   \n",
       "3  Sunny warehouse/loft apartment in the heart of...   \n",
       "4  An open plan apartment, adjacent to a spacious...   \n",
       "\n",
       "                               neighborhood_overview  \\\n",
       "0  It is very close to everything and everywhere,...   \n",
       "1  The location is really central and there is nu...   \n",
       "2  The area:<br />A brisk 10 minute walk to Bondi...   \n",
       "3  Darlinghurst is home to some of Sydney's best ...   \n",
       "4  Mosman is a smart, middle to upper class subur...   \n",
       "\n",
       "                                         picture_url  host_id  ...  \\\n",
       "0  https://a0.muscache.com/pictures/2797669/17895...    40855  ...   \n",
       "1  https://a0.muscache.com/pictures/miso/Hosting-...    59850  ...   \n",
       "2  https://a0.muscache.com/pictures/10544861/d342...   501973  ...   \n",
       "3  https://a0.muscache.com/pictures/a88d8e14-4f63...   112237  ...   \n",
       "4  https://a0.muscache.com/pictures/23497720/d30f...   279955  ...   \n",
       "\n",
       "  review_scores_communication review_scores_location review_scores_value  \\\n",
       "0                        4.76                   4.82                4.71   \n",
       "1                        4.72                   4.75                4.53   \n",
       "2                        4.88                   4.79                4.59   \n",
       "3                        4.96                   4.93                4.77   \n",
       "4                        4.91                   4.74                4.70   \n",
       "\n",
       "            license instant_bookable calculated_host_listings_count  \\\n",
       "0               NaN                f                              1   \n",
       "1  PID-STRA-24061-7                t                              2   \n",
       "2    PID-STRA-15719                f                              1   \n",
       "3               NaN                f                              1   \n",
       "4     PID-STRA-2810                f                              1   \n",
       "\n",
       "  calculated_host_listings_count_entire_homes  \\\n",
       "0                                           0   \n",
       "1                                           1   \n",
       "2                                           0   \n",
       "3                                           1   \n",
       "4                                           1   \n",
       "\n",
       "  calculated_host_listings_count_private_rooms  \\\n",
       "0                                            1   \n",
       "1                                            1   \n",
       "2                                            1   \n",
       "3                                            0   \n",
       "4                                            0   \n",
       "\n",
       "  calculated_host_listings_count_shared_rooms reviews_per_month  \n",
       "0                                           0              1.21  \n",
       "1                                           0              3.58  \n",
       "2                                           0              0.26  \n",
       "3                                           0              0.50  \n",
       "4                                           0              2.47  \n",
       "\n",
       "[5 rows x 75 columns]"
      ]
     },
     "execution_count": 6,
     "metadata": {},
     "output_type": "execute_result"
    }
   ],
   "source": [
    "listings_data.head()\n"
   ]
  },
  {
   "cell_type": "markdown",
   "metadata": {},
   "source": [
    "`dataframe.head()` gives the top 5 rows, if it was `dataframe.head(3)` it would give the top 3 rows. \n",
    "\n",
    "`dataframe.sample(5)` gives you 5 random rows from your dataframe. It's a good way to avoid the trap where you confuse yourself the first few rows are odd."
   ]
  },
  {
   "cell_type": "code",
   "execution_count": 7,
   "metadata": {},
   "outputs": [
    {
     "data": {
      "text/html": [
       "<div>\n",
       "<style scoped>\n",
       "    .dataframe tbody tr th:only-of-type {\n",
       "        vertical-align: middle;\n",
       "    }\n",
       "\n",
       "    .dataframe tbody tr th {\n",
       "        vertical-align: top;\n",
       "    }\n",
       "\n",
       "    .dataframe thead th {\n",
       "        text-align: right;\n",
       "    }\n",
       "</style>\n",
       "<table border=\"1\" class=\"dataframe\">\n",
       "  <thead>\n",
       "    <tr style=\"text-align: right;\">\n",
       "      <th></th>\n",
       "      <th>id</th>\n",
       "      <th>listing_url</th>\n",
       "      <th>scrape_id</th>\n",
       "      <th>last_scraped</th>\n",
       "      <th>source</th>\n",
       "      <th>name</th>\n",
       "      <th>description</th>\n",
       "      <th>neighborhood_overview</th>\n",
       "      <th>picture_url</th>\n",
       "      <th>host_id</th>\n",
       "      <th>...</th>\n",
       "      <th>review_scores_communication</th>\n",
       "      <th>review_scores_location</th>\n",
       "      <th>review_scores_value</th>\n",
       "      <th>license</th>\n",
       "      <th>instant_bookable</th>\n",
       "      <th>calculated_host_listings_count</th>\n",
       "      <th>calculated_host_listings_count_entire_homes</th>\n",
       "      <th>calculated_host_listings_count_private_rooms</th>\n",
       "      <th>calculated_host_listings_count_shared_rooms</th>\n",
       "      <th>reviews_per_month</th>\n",
       "    </tr>\n",
       "  </thead>\n",
       "  <tbody>\n",
       "    <tr>\n",
       "      <th>2838</th>\n",
       "      <td>9.699322e+06</td>\n",
       "      <td>https://www.airbnb.com/rooms/9699322</td>\n",
       "      <td>2.020000e+13</td>\n",
       "      <td>14/3/2023</td>\n",
       "      <td>previous scrape</td>\n",
       "      <td>Beach Front Apt in Beautiful Bronte</td>\n",
       "      <td>Our stylish light filled apartment is situated...</td>\n",
       "      <td>A real Sydney experience is offered at Bronte ...</td>\n",
       "      <td>https://a0.muscache.com/pictures/02ad1d5f-8162...</td>\n",
       "      <td>50087628</td>\n",
       "      <td>...</td>\n",
       "      <td>4.67</td>\n",
       "      <td>5.00</td>\n",
       "      <td>4.67</td>\n",
       "      <td>NaN</td>\n",
       "      <td>f</td>\n",
       "      <td>1</td>\n",
       "      <td>1</td>\n",
       "      <td>0</td>\n",
       "      <td>0</td>\n",
       "      <td>0.03</td>\n",
       "    </tr>\n",
       "    <tr>\n",
       "      <th>16583</th>\n",
       "      <td>4.969469e+07</td>\n",
       "      <td>https://www.airbnb.com/rooms/49694688</td>\n",
       "      <td>2.020000e+13</td>\n",
       "      <td>13/3/2023</td>\n",
       "      <td>city scrape</td>\n",
       "      <td>The Bothy, your island retreat</td>\n",
       "      <td>Your own island retreat awaits you, set amidst...</td>\n",
       "      <td>Church Point, where the ferry leaves from, is ...</td>\n",
       "      <td>https://a0.muscache.com/pictures/miso/Hosting-...</td>\n",
       "      <td>219187209</td>\n",
       "      <td>...</td>\n",
       "      <td>5.00</td>\n",
       "      <td>4.78</td>\n",
       "      <td>5.00</td>\n",
       "      <td>PID-STRA-6487</td>\n",
       "      <td>f</td>\n",
       "      <td>1</td>\n",
       "      <td>1</td>\n",
       "      <td>0</td>\n",
       "      <td>0</td>\n",
       "      <td>0.54</td>\n",
       "    </tr>\n",
       "    <tr>\n",
       "      <th>22377</th>\n",
       "      <td>8.340000e+17</td>\n",
       "      <td>https://www.airbnb.com/rooms/833788846983631848</td>\n",
       "      <td>2.020000e+13</td>\n",
       "      <td>13/3/2023</td>\n",
       "      <td>city scrape</td>\n",
       "      <td>Cosmopolitan Heights</td>\n",
       "      <td>Sophisticated city-living with sky pool in the...</td>\n",
       "      <td>NaN</td>\n",
       "      <td>https://a0.muscache.com/pictures/prohost-api/H...</td>\n",
       "      <td>7409213</td>\n",
       "      <td>...</td>\n",
       "      <td>NaN</td>\n",
       "      <td>NaN</td>\n",
       "      <td>NaN</td>\n",
       "      <td>PID-STRA-48986</td>\n",
       "      <td>t</td>\n",
       "      <td>175</td>\n",
       "      <td>175</td>\n",
       "      <td>0</td>\n",
       "      <td>0</td>\n",
       "      <td>NaN</td>\n",
       "    </tr>\n",
       "    <tr>\n",
       "      <th>8290</th>\n",
       "      <td>2.327810e+07</td>\n",
       "      <td>https://www.airbnb.com/rooms/23278104</td>\n",
       "      <td>2.020000e+13</td>\n",
       "      <td>13/3/2023</td>\n",
       "      <td>city scrape</td>\n",
       "      <td>Premium Beachside Living at a Chic Coogee Esca...</td>\n",
       "      <td>Soak up the natural light in the double-height...</td>\n",
       "      <td>The Eora apartments boast a coveted location j...</td>\n",
       "      <td>https://a0.muscache.com/pictures/b398fb56-0781...</td>\n",
       "      <td>2450066</td>\n",
       "      <td>...</td>\n",
       "      <td>4.83</td>\n",
       "      <td>4.83</td>\n",
       "      <td>4.50</td>\n",
       "      <td>PID-STRA-18058</td>\n",
       "      <td>f</td>\n",
       "      <td>96</td>\n",
       "      <td>96</td>\n",
       "      <td>0</td>\n",
       "      <td>0</td>\n",
       "      <td>0.17</td>\n",
       "    </tr>\n",
       "    <tr>\n",
       "      <th>9801</th>\n",
       "      <td>2.902154e+07</td>\n",
       "      <td>https://www.airbnb.com/rooms/29021535</td>\n",
       "      <td>2.020000e+13</td>\n",
       "      <td>14/3/2023</td>\n",
       "      <td>previous scrape</td>\n",
       "      <td>Exclusive use of a compact first floor garden ...</td>\n",
       "      <td>Exclusive use of a compact first floor garden ...</td>\n",
       "      <td>There are a number of parks and public spaces ...</td>\n",
       "      <td>https://a0.muscache.com/pictures/36796869-ddd1...</td>\n",
       "      <td>218727051</td>\n",
       "      <td>...</td>\n",
       "      <td>4.98</td>\n",
       "      <td>4.80</td>\n",
       "      <td>4.90</td>\n",
       "      <td>PID-STRA-4705</td>\n",
       "      <td>f</td>\n",
       "      <td>1</td>\n",
       "      <td>1</td>\n",
       "      <td>0</td>\n",
       "      <td>0</td>\n",
       "      <td>0.95</td>\n",
       "    </tr>\n",
       "  </tbody>\n",
       "</table>\n",
       "<p>5 rows × 75 columns</p>\n",
       "</div>"
      ],
      "text/plain": [
       "                 id                                      listing_url  \\\n",
       "2838   9.699322e+06             https://www.airbnb.com/rooms/9699322   \n",
       "16583  4.969469e+07            https://www.airbnb.com/rooms/49694688   \n",
       "22377  8.340000e+17  https://www.airbnb.com/rooms/833788846983631848   \n",
       "8290   2.327810e+07            https://www.airbnb.com/rooms/23278104   \n",
       "9801   2.902154e+07            https://www.airbnb.com/rooms/29021535   \n",
       "\n",
       "          scrape_id last_scraped           source  \\\n",
       "2838   2.020000e+13    14/3/2023  previous scrape   \n",
       "16583  2.020000e+13    13/3/2023      city scrape   \n",
       "22377  2.020000e+13    13/3/2023      city scrape   \n",
       "8290   2.020000e+13    13/3/2023      city scrape   \n",
       "9801   2.020000e+13    14/3/2023  previous scrape   \n",
       "\n",
       "                                                    name  \\\n",
       "2838                 Beach Front Apt in Beautiful Bronte   \n",
       "16583                     The Bothy, your island retreat   \n",
       "22377                               Cosmopolitan Heights   \n",
       "8290   Premium Beachside Living at a Chic Coogee Esca...   \n",
       "9801   Exclusive use of a compact first floor garden ...   \n",
       "\n",
       "                                             description  \\\n",
       "2838   Our stylish light filled apartment is situated...   \n",
       "16583  Your own island retreat awaits you, set amidst...   \n",
       "22377  Sophisticated city-living with sky pool in the...   \n",
       "8290   Soak up the natural light in the double-height...   \n",
       "9801   Exclusive use of a compact first floor garden ...   \n",
       "\n",
       "                                   neighborhood_overview  \\\n",
       "2838   A real Sydney experience is offered at Bronte ...   \n",
       "16583  Church Point, where the ferry leaves from, is ...   \n",
       "22377                                                NaN   \n",
       "8290   The Eora apartments boast a coveted location j...   \n",
       "9801   There are a number of parks and public spaces ...   \n",
       "\n",
       "                                             picture_url    host_id  ...  \\\n",
       "2838   https://a0.muscache.com/pictures/02ad1d5f-8162...   50087628  ...   \n",
       "16583  https://a0.muscache.com/pictures/miso/Hosting-...  219187209  ...   \n",
       "22377  https://a0.muscache.com/pictures/prohost-api/H...    7409213  ...   \n",
       "8290   https://a0.muscache.com/pictures/b398fb56-0781...    2450066  ...   \n",
       "9801   https://a0.muscache.com/pictures/36796869-ddd1...  218727051  ...   \n",
       "\n",
       "      review_scores_communication review_scores_location review_scores_value  \\\n",
       "2838                         4.67                   5.00                4.67   \n",
       "16583                        5.00                   4.78                5.00   \n",
       "22377                         NaN                    NaN                 NaN   \n",
       "8290                         4.83                   4.83                4.50   \n",
       "9801                         4.98                   4.80                4.90   \n",
       "\n",
       "              license instant_bookable calculated_host_listings_count  \\\n",
       "2838              NaN                f                              1   \n",
       "16583   PID-STRA-6487                f                              1   \n",
       "22377  PID-STRA-48986                t                            175   \n",
       "8290   PID-STRA-18058                f                             96   \n",
       "9801    PID-STRA-4705                f                              1   \n",
       "\n",
       "      calculated_host_listings_count_entire_homes  \\\n",
       "2838                                            1   \n",
       "16583                                           1   \n",
       "22377                                         175   \n",
       "8290                                           96   \n",
       "9801                                            1   \n",
       "\n",
       "      calculated_host_listings_count_private_rooms  \\\n",
       "2838                                             0   \n",
       "16583                                            0   \n",
       "22377                                            0   \n",
       "8290                                             0   \n",
       "9801                                             0   \n",
       "\n",
       "      calculated_host_listings_count_shared_rooms reviews_per_month  \n",
       "2838                                            0              0.03  \n",
       "16583                                           0              0.54  \n",
       "22377                                           0               NaN  \n",
       "8290                                            0              0.17  \n",
       "9801                                            0              0.95  \n",
       "\n",
       "[5 rows x 75 columns]"
      ]
     },
     "execution_count": 7,
     "metadata": {},
     "output_type": "execute_result"
    }
   ],
   "source": [
    "listings_data.sample(5)\n"
   ]
  },
  {
   "cell_type": "markdown",
   "metadata": {
    "slideshow": {
     "slide_type": "slide"
    }
   },
   "source": [
    "We can also get the list of columns out of the data frame"
   ]
  },
  {
   "cell_type": "code",
   "execution_count": 8,
   "metadata": {
    "slideshow": {
     "slide_type": "fragment"
    }
   },
   "outputs": [
    {
     "data": {
      "text/plain": [
       "Index(['id', 'listing_url', 'scrape_id', 'last_scraped', 'source', 'name',\n",
       "       'description', 'neighborhood_overview', 'picture_url', 'host_id',\n",
       "       'host_url', 'host_name', 'host_since', 'host_location', 'host_about',\n",
       "       'host_response_time', 'host_response_rate', 'host_acceptance_rate',\n",
       "       'host_is_superhost', 'host_thumbnail_url', 'host_picture_url',\n",
       "       'host_neighbourhood', 'host_listings_count',\n",
       "       'host_total_listings_count', 'host_verifications',\n",
       "       'host_has_profile_pic', 'host_identity_verified', 'neighbourhood',\n",
       "       'neighbourhood_cleansed', 'neighbourhood_group_cleansed', 'latitude',\n",
       "       'longitude', 'property_type', 'room_type', 'accommodates', 'bathrooms',\n",
       "       'bathrooms_text', 'bedrooms', 'beds', 'amenities', ' price ',\n",
       "       'minimum_nights', 'maximum_nights', 'minimum_minimum_nights',\n",
       "       'maximum_minimum_nights', 'minimum_maximum_nights',\n",
       "       'maximum_maximum_nights', 'minimum_nights_avg_ntm',\n",
       "       'maximum_nights_avg_ntm', 'calendar_updated', 'has_availability',\n",
       "       'availability_30', 'availability_60', 'availability_90',\n",
       "       'availability_365', 'calendar_last_scraped', 'number_of_reviews',\n",
       "       'number_of_reviews_ltm', 'number_of_reviews_l30d', 'first_review',\n",
       "       'last_review', 'review_scores_rating', 'review_scores_accuracy',\n",
       "       'review_scores_cleanliness', 'review_scores_checkin',\n",
       "       'review_scores_communication', 'review_scores_location',\n",
       "       'review_scores_value', 'license', 'instant_bookable',\n",
       "       'calculated_host_listings_count',\n",
       "       'calculated_host_listings_count_entire_homes',\n",
       "       'calculated_host_listings_count_private_rooms',\n",
       "       'calculated_host_listings_count_shared_rooms', 'reviews_per_month'],\n",
       "      dtype='object')"
      ]
     },
     "execution_count": 8,
     "metadata": {},
     "output_type": "execute_result"
    }
   ],
   "source": [
    "listings_data.columns"
   ]
  },
  {
   "cell_type": "markdown",
   "metadata": {},
   "source": [
    "This is useful for you when you are documenting your dataset, you can make each column a heading, and then describe that column's characteristics."
   ]
  },
  {
   "cell_type": "markdown",
   "metadata": {
    "slideshow": {
     "slide_type": "slide"
    }
   },
   "source": [
    "You can't index a row directly, you need to use the `iloc` property. That means the _interger location_, so the zeroeth row would be `df.iloc[0]`. \n",
    "\n",
    "This gives us the row as a _Series_.\n",
    "\n",
    "↓"
   ]
  },
  {
   "cell_type": "code",
   "execution_count": 9,
   "metadata": {
    "slideshow": {
     "slide_type": "subslide"
    }
   },
   "outputs": [
    {
     "data": {
      "text/plain": [
       "id                                                                         15253.0\n",
       "listing_url                                     https://www.airbnb.com/rooms/15253\n",
       "scrape_id                                                         20200000000000.0\n",
       "last_scraped                                                             13/3/2023\n",
       "source                                                                 city scrape\n",
       "                                                               ...                \n",
       "calculated_host_listings_count                                                   2\n",
       "calculated_host_listings_count_entire_homes                                      1\n",
       "calculated_host_listings_count_private_rooms                                     1\n",
       "calculated_host_listings_count_shared_rooms                                      0\n",
       "reviews_per_month                                                             3.58\n",
       "Name: 1, Length: 75, dtype: object"
      ]
     },
     "execution_count": 9,
     "metadata": {},
     "output_type": "execute_result"
    }
   ],
   "source": [
    "row_one = listings_data.iloc[1]\n",
    "row_one\n"
   ]
  },
  {
   "cell_type": "markdown",
   "metadata": {
    "slideshow": {
     "slide_type": "subslide"
    }
   },
   "source": [
    "Series objects are _very_ similar to dictionaries. They have more properties though."
   ]
  },
  {
   "cell_type": "code",
   "execution_count": 10,
   "metadata": {
    "slideshow": {
     "slide_type": "-"
    }
   },
   "outputs": [
    {
     "data": {
      "text/plain": [
       "'Unique Designer Rooftop Apartment in City Location'"
      ]
     },
     "execution_count": 10,
     "metadata": {},
     "output_type": "execute_result"
    }
   ],
   "source": [
    "row_one[\"name\"]"
   ]
  },
  {
   "cell_type": "markdown",
   "metadata": {},
   "source": [
    "You can access them like a dictionary ☝ or you can access them like a property 👇. \n",
    "\n",
    "I like the `my_series.key_name` best, but it won't work if there are spaces in your column title. That can happen if you are getting the data from somewhere else (i.e. you didn't make it)."
   ]
  },
  {
   "cell_type": "code",
   "execution_count": 11,
   "metadata": {},
   "outputs": [
    {
     "data": {
      "text/plain": [
       "'Morag'"
      ]
     },
     "execution_count": 11,
     "metadata": {},
     "output_type": "execute_result"
    }
   ],
   "source": [
    "row_one.host_name"
   ]
  },
  {
   "cell_type": "markdown",
   "metadata": {
    "slideshow": {
     "slide_type": "slide"
    }
   },
   "source": [
    "Doing the same thing on a dataframe gives us the whole column"
   ]
  },
  {
   "cell_type": "code",
   "execution_count": 12,
   "metadata": {
    "slideshow": {
     "slide_type": "-"
    }
   },
   "outputs": [
    {
     "data": {
      "text/plain": [
       "0            Sydney\n",
       "1            Sydney\n",
       "2          Waverley\n",
       "3            Sydney\n",
       "4            Mosman\n",
       "            ...    \n",
       "22654    Canada Bay\n",
       "22655        Sydney\n",
       "22656      Waverley\n",
       "22657          Ryde\n",
       "22658    Canada Bay\n",
       "Name: neighbourhood_cleansed, Length: 22659, dtype: object"
      ]
     },
     "execution_count": 12,
     "metadata": {},
     "output_type": "execute_result"
    }
   ],
   "source": [
    "listings_data.neighbourhood_cleansed"
   ]
  },
  {
   "cell_type": "code",
   "execution_count": 13,
   "metadata": {
    "slideshow": {
     "slide_type": "slide"
    }
   },
   "outputs": [
    {
     "data": {
      "text/plain": [
       "<AxesSubplot:>"
      ]
     },
     "execution_count": 13,
     "metadata": {},
     "output_type": "execute_result"
    },
    {
     "data": {
      "image/png": "[encoded data removed]",
      "text/plain": [
       "<Figure size 720x360 with 1 Axes>"
      ]
     },
     "metadata": {
      "needs_background": "light"
     },
     "output_type": "display_data"
    }
   ],
   "source": [
    "listings_data[\"number_of_reviews_ltm\"].plot()"
   ]
  },
  {
   "cell_type": "markdown",
   "metadata": {
    "slideshow": {
     "slide_type": "fragment"
    }
   },
   "source": [
    "If we do a simple `plot` on this column we get a pretty dense, but useless graph. It much better one would be a histogram."
   ]
  },
  {
   "cell_type": "code",
   "execution_count": 14,
   "metadata": {
    "slideshow": {
     "slide_type": "slide"
    }
   },
   "outputs": [
    {
     "data": {
      "text/plain": [
       "<AxesSubplot:>"
      ]
     },
     "execution_count": 14,
     "metadata": {},
     "output_type": "execute_result"
    },
    {
     "data": {
      "image/png": "[encoded data removed]",
      "text/plain": [
       "<Figure size 720x360 with 1 Axes>"
      ]
     },
     "metadata": {
      "needs_background": "light"
     },
     "output_type": "display_data"
    }
   ],
   "source": [
    "listings_data.number_of_reviews_ltm.hist()"
   ]
  },
  {
   "cell_type": "markdown",
   "metadata": {
    "slideshow": {
     "slide_type": "fragment"
    }
   },
   "source": [
    "The problem we have now is that almost _all_ fines are less than $2000, but there's a very long tail that fills up the right of the graph."
   ]
  },
  {
   "cell_type": "markdown",
   "metadata": {
    "slideshow": {
     "slide_type": "slide"
    }
   },
   "source": [
    "Let's exclude all the values above $3000, and see what it looks like.\n",
    "\n",
    "We can do that with a nice feature of pandas, _boolean indexing_:"
   ]
  },
  {
   "cell_type": "code",
   "execution_count": 15,
   "metadata": {
    "slideshow": {
     "slide_type": "slide"
    }
   },
   "outputs": [
    {
     "data": {
      "text/plain": [
       "<AxesSubplot:>"
      ]
     },
     "execution_count": 15,
     "metadata": {},
     "output_type": "execute_result"
    },
    {
     "data": {
      "image/png": "[encoded data removed]",
      "text/plain": [
       "<Figure size 720x360 with 1 Axes>"
      ]
     },
     "metadata": {
      "needs_background": "light"
     },
     "output_type": "display_data"
    }
   ],
   "source": [
    "listings_data.number_of_reviews_ltm[listings_data.number_of_reviews_ltm < 40].hist()\n"
   ]
  },
  {
   "cell_type": "markdown",
   "metadata": {
    "slideshow": {
     "slide_type": "slide"
    }
   },
   "source": [
    "That's pretty crazy/powerful, so let's see that happen a bit more clearly.\n",
    "\n",
    "We'll make our own series and call it  `some_numbers`\n",
    "\n",
    "Let's give it the values 0-99 "
   ]
  },
  {
   "cell_type": "code",
   "execution_count": 16,
   "metadata": {
    "slideshow": {
     "slide_type": "slide"
    }
   },
   "outputs": [
    {
     "data": {
      "text/plain": [
       "0    0\n",
       "1    1\n",
       "2    2\n",
       "3    3\n",
       "4    4\n",
       "dtype: int64"
      ]
     },
     "execution_count": 16,
     "metadata": {},
     "output_type": "execute_result"
    }
   ],
   "source": [
    "# Note the capital S, I have no idea why they did that!\n",
    "# but if you get an `AttributeError: 'module' object has no attribute 'series'` error...\n",
    "#                 v\n",
    "some_numbers = pd.Series(range(100))\n",
    "some_numbers.head()\n"
   ]
  },
  {
   "cell_type": "markdown",
   "metadata": {
    "slideshow": {
     "slide_type": "slide"
    }
   },
   "source": [
    "We can use boolean indexing to get just the values that are less than 8"
   ]
  },
  {
   "cell_type": "code",
   "execution_count": 17,
   "metadata": {
    "slideshow": {
     "slide_type": "-"
    }
   },
   "outputs": [
    {
     "data": {
      "text/plain": [
       "0    0\n",
       "1    1\n",
       "2    2\n",
       "3    3\n",
       "4    4\n",
       "5    5\n",
       "6    6\n",
       "7    7\n",
       "dtype: int64"
      ]
     },
     "execution_count": 17,
     "metadata": {},
     "output_type": "execute_result"
    }
   ],
   "source": [
    "some_numbers[some_numbers < 8]"
   ]
  },
  {
   "cell_type": "markdown",
   "metadata": {
    "slideshow": {
     "slide_type": "slide"
    }
   },
   "source": [
    "Or we can be fancy and get the numbers that are less than 4 _or_ more than 97:"
   ]
  },
  {
   "cell_type": "code",
   "execution_count": 18,
   "metadata": {
    "slideshow": {
     "slide_type": "-"
    }
   },
   "outputs": [
    {
     "data": {
      "text/plain": [
       "0      0\n",
       "1      1\n",
       "2      2\n",
       "3      3\n",
       "97    97\n",
       "98    98\n",
       "99    99\n",
       "dtype: int64"
      ]
     },
     "execution_count": 18,
     "metadata": {},
     "output_type": "execute_result"
    }
   ],
   "source": [
    "some_numbers[(some_numbers < 4) | (some_numbers >= 97)]\n",
    "# this needs the round brackets, not really sure why.\n"
   ]
  },
  {
   "cell_type": "markdown",
   "metadata": {
    "slideshow": {
     "slide_type": "slide"
    }
   },
   "source": [
    "We can be _really fancy_ too!  Allow me to introduce the:\n",
    "\n",
    "# 🎺 List comprehension 🎺\n",
    "\n",
    "This needs to resolve to a list of booleans that matches the list of inputs. It's filtering only for values that are True.\n",
    "\n",
    "If we use a list comprehension then we can do almost anything we like!"
   ]
  },
  {
   "cell_type": "code",
   "execution_count": 19,
   "metadata": {
    "slideshow": {
     "slide_type": "slide"
    }
   },
   "outputs": [
    {
     "name": "stdout",
     "output_type": "stream",
     "text": [
      "pattern: [False, False, False, False, False, False, False, True, True, True, False, False, True, False, False, False, True, False, False, True, False, False, True, False, False, False, False, False, False, False, False, False, True, True, True, True, True, True, False, False, False]\n"
     ]
    },
    {
     "data": {
      "text/plain": [
       "7                   Chicken\n",
       "8                Guinea pig\n",
       "9                    Donkey\n",
       "12        Western honey bee\n",
       "16                   pigeon\n",
       "19           Bactrian camel\n",
       "22               guineafowl\n",
       "32                   canary\n",
       "33            Society finch\n",
       "34              Fancy mouse\n",
       "35    Siamese fighting fish\n",
       "36    Fancy rat and Lab rat\n",
       "37                     mink\n",
       "dtype: object"
      ]
     },
     "execution_count": 19,
     "metadata": {},
     "output_type": "execute_result"
    }
   ],
   "source": [
    "pets = [\"Dog\", \"Goat\", \"pig\", \"Sheep\", \"Cattle\", \"Zebu\", \"Cat\", \"Chicken\", \"Guinea pig\",             \n",
    "        \"Donkey\", \"duck\", \"Water buffalo\", \"Western honey bee\", \"dromedary camel\", \"Horse\", \n",
    "        \"silkmoth\", \"pigeon\", \"goose\", \"Yak\", \"Bactrian camel\", \"Llama\", \"Alpaca\",   \n",
    "        \"guineafowl\", \"Ferret\", \"muscovy duck\", \"Barbary dove\", \"Bali cattle\", \"Gayal\",\n",
    "        \"turkey\", \"Goldfish\", \"rabbit\", \"Koi\", \"canary\", \"Society finch\", \"Fancy mouse\",\n",
    "        \"Siamese fighting fish\", \"Fancy rat and Lab rat\", \"mink\", \"red fox\", \"hedgehog\",\n",
    "        \"Guppy\"]\n",
    "\n",
    "pets_series = pd.Series(pets)\n",
    "pattern_of_bools = [(\"n\" in pet_name) for pet_name in pets_series]\n",
    "print(\"pattern:\",pattern_of_bools)\n",
    "\n",
    "pets_series[pattern_of_bools]"
   ]
  },
  {
   "cell_type": "markdown",
   "metadata": {
    "slideshow": {
     "slide_type": "-"
    }
   },
   "source": [
    "_Note: the first `in` means a different thing to the second `in`. I was wondering if I should leave this out, but it's probably good to expose you to strange stuff!_\n",
    "\n",
    "You've seen this _pattern_ before, we used to make the grids of stars etc."
   ]
  },
  {
   "cell_type": "code",
   "execution_count": 20,
   "metadata": {},
   "outputs": [
    {
     "data": {
      "text/plain": [
       "['Goat', 'Zebu', 'duck', 'mink']"
      ]
     },
     "execution_count": 20,
     "metadata": {},
     "output_type": "execute_result"
    }
   ],
   "source": [
    "pets_we_care_about = []\n",
    "for this_pet in pets:\n",
    "    if len(this_pet) == 4:\n",
    "        pets_we_care_about.append(this_pet)\n",
    "pets_we_care_about\n"
   ]
  },
  {
   "cell_type": "markdown",
   "metadata": {},
   "source": [
    "This comes up so often that python has a built in pattern for doing this called a _list comprehension_\n",
    "\n",
    "This one is pretty silly because it takes the contents of one list and makes a new list out of it. Not doing anything else along the way."
   ]
  },
  {
   "cell_type": "code",
   "execution_count": 21,
   "metadata": {},
   "outputs": [
    {
     "data": {
      "text/plain": [
       "['Dog',\n",
       " 'Goat',\n",
       " 'pig',\n",
       " 'Sheep',\n",
       " 'Cattle',\n",
       " 'Zebu',\n",
       " 'Cat',\n",
       " 'Chicken',\n",
       " 'Guinea pig',\n",
       " 'Donkey',\n",
       " 'duck',\n",
       " 'Water buffalo',\n",
       " 'Western honey bee',\n",
       " 'dromedary camel',\n",
       " 'Horse',\n",
       " 'silkmoth',\n",
       " 'pigeon',\n",
       " 'goose',\n",
       " 'Yak',\n",
       " 'Bactrian camel',\n",
       " 'Llama',\n",
       " 'Alpaca',\n",
       " 'guineafowl',\n",
       " 'Ferret',\n",
       " 'muscovy duck',\n",
       " 'Barbary dove',\n",
       " 'Bali cattle',\n",
       " 'Gayal',\n",
       " 'turkey',\n",
       " 'Goldfish',\n",
       " 'rabbit',\n",
       " 'Koi',\n",
       " 'canary',\n",
       " 'Society finch',\n",
       " 'Fancy mouse',\n",
       " 'Siamese fighting fish',\n",
       " 'Fancy rat and Lab rat',\n",
       " 'mink',\n",
       " 'red fox',\n",
       " 'hedgehog',\n",
       " 'Guppy']"
      ]
     },
     "execution_count": 21,
     "metadata": {},
     "output_type": "execute_result"
    }
   ],
   "source": [
    "[p for p in pets]"
   ]
  },
  {
   "cell_type": "markdown",
   "metadata": {},
   "source": [
    "This one converts the list to uppercase while it's doing the transfer"
   ]
  },
  {
   "cell_type": "code",
   "execution_count": 22,
   "metadata": {},
   "outputs": [
    {
     "data": {
      "text/plain": [
       "['DOG',\n",
       " 'GOAT',\n",
       " 'PIG',\n",
       " 'SHEEP',\n",
       " 'CATTLE',\n",
       " 'ZEBU',\n",
       " 'CAT',\n",
       " 'CHICKEN',\n",
       " 'GUINEA PIG',\n",
       " 'DONKEY',\n",
       " 'DUCK',\n",
       " 'WATER BUFFALO',\n",
       " 'WESTERN HONEY BEE',\n",
       " 'DROMEDARY CAMEL',\n",
       " 'HORSE',\n",
       " 'SILKMOTH',\n",
       " 'PIGEON',\n",
       " 'GOOSE',\n",
       " 'YAK',\n",
       " 'BACTRIAN CAMEL',\n",
       " 'LLAMA',\n",
       " 'ALPACA',\n",
       " 'GUINEAFOWL',\n",
       " 'FERRET',\n",
       " 'MUSCOVY DUCK',\n",
       " 'BARBARY DOVE',\n",
       " 'BALI CATTLE',\n",
       " 'GAYAL',\n",
       " 'TURKEY',\n",
       " 'GOLDFISH',\n",
       " 'RABBIT',\n",
       " 'KOI',\n",
       " 'CANARY',\n",
       " 'SOCIETY FINCH',\n",
       " 'FANCY MOUSE',\n",
       " 'SIAMESE FIGHTING FISH',\n",
       " 'FANCY RAT AND LAB RAT',\n",
       " 'MINK',\n",
       " 'RED FOX',\n",
       " 'HEDGEHOG',\n",
       " 'GUPPY']"
      ]
     },
     "execution_count": 22,
     "metadata": {},
     "output_type": "execute_result"
    }
   ],
   "source": [
    "[p.upper() for p in pets]"
   ]
  },
  {
   "cell_type": "markdown",
   "metadata": {},
   "source": [
    "And this one has a condition. It asks if each pet name `p` is exactly 4 characters long. If it is, it lets it through its filter."
   ]
  },
  {
   "cell_type": "code",
   "execution_count": 23,
   "metadata": {},
   "outputs": [
    {
     "data": {
      "text/plain": [
       "['Goat', 'Zebu', 'duck', 'mink']"
      ]
     },
     "execution_count": 23,
     "metadata": {},
     "output_type": "execute_result"
    }
   ],
   "source": [
    "[p for p in pets if len(p) == 4]\n"
   ]
  },
  {
   "cell_type": "markdown",
   "metadata": {},
   "source": [
    "And this one is doing both"
   ]
  },
  {
   "cell_type": "code",
   "execution_count": 24,
   "metadata": {},
   "outputs": [
    {
     "data": {
      "text/plain": [
       "['SHEEP', 'HORSE', 'GOOSE', 'LLAMA', 'GAYAL', 'GUPPY']"
      ]
     },
     "execution_count": 24,
     "metadata": {},
     "output_type": "execute_result"
    }
   ],
   "source": [
    "[p.upper() for p in pets if len(p) == 5]\n"
   ]
  },
  {
   "cell_type": "markdown",
   "metadata": {
    "slideshow": {
     "slide_type": "slide"
    }
   },
   "source": [
    "Anyway, back to our fines, it looks like we have a similar pattern of fines here, lots at the bottom end, not so many high value ones. \n",
    "\n",
    "This is using some pandas magic, not a list comprehension. The magic is that you can compare a series using < or > and get back a list of booleans. This wouldn't work using a list.\n",
    "\n",
    "Let's add one more thing too, to make these graphs less garbage 🗑, a title."
   ]
  },
  {
   "cell_type": "code",
   "execution_count": 25,
   "metadata": {
    "slideshow": {
     "slide_type": "fragment"
    }
   },
   "outputs": [
    {
     "data": {
      "text/plain": [
       "Text(0.5, 1.0, 'Number of reviews under 70')"
      ]
     },
     "execution_count": 25,
     "metadata": {},
     "output_type": "execute_result"
    },
    {
     "data": {
      "image/png": "[encoded data removed]",
      "text/plain": [
       "<Figure size 720x360 with 1 Axes>"
      ]
     },
     "metadata": {
      "needs_background": "light"
     },
     "output_type": "display_data"
    }
   ],
   "source": [
    "upper_bound = 70\n",
    "listings_data.number_of_reviews_ltm[listings_data.number_of_reviews_ltm < upper_bound].hist()\n",
    "plt.title(f\"Number of reviews under {upper_bound}\")\n"
   ]
  },
  {
   "cell_type": "markdown",
   "metadata": {
    "slideshow": {
     "slide_type": "slide"
    }
   },
   "source": [
    "Let's see what's under $1000"
   ]
  },
  {
   "cell_type": "code",
   "execution_count": 26,
   "metadata": {
    "slideshow": {
     "slide_type": "-"
    }
   },
   "outputs": [
    {
     "data": {
      "text/plain": [
       "Text(0.5, 1.0, 'Number of reviews under 70')"
      ]
     },
     "execution_count": 26,
     "metadata": {},
     "output_type": "execute_result"
    },
    {
     "data": {
      "image/png": "[encoded data removed]",
      "text/plain": [
       "<Figure size 720x360 with 1 Axes>"
      ]
     },
     "metadata": {
      "needs_background": "light"
     },
     "output_type": "display_data"
    }
   ],
   "source": [
    "upper_bound = 70\n",
    "listings_data.number_of_reviews_ltm[listings_data.number_of_reviews_ltm < upper_bound].hist()\n",
    "plt.title(f\"Number of reviews under {upper_bound}\")\n"
   ]
  },
  {
   "cell_type": "markdown",
   "metadata": {},
   "source": [
    "This warants some further investigation, but we'll come back to it in a bit. First, let's look at some of the other columns."
   ]
  },
  {
   "cell_type": "markdown",
   "metadata": {
    "slideshow": {
     "slide_type": "slide"
    }
   },
   "source": [
    "In the `LEGISLATION` column it tells us which law was invoked to give this fine. "
   ]
  },
  {
   "cell_type": "code",
   "execution_count": 27,
   "metadata": {},
   "outputs": [
    {
     "data": {
      "text/html": [
       "<div>\n",
       "<style scoped>\n",
       "    .dataframe tbody tr th:only-of-type {\n",
       "        vertical-align: middle;\n",
       "    }\n",
       "\n",
       "    .dataframe tbody tr th {\n",
       "        vertical-align: top;\n",
       "    }\n",
       "\n",
       "    .dataframe thead th {\n",
       "        text-align: right;\n",
       "    }\n",
       "</style>\n",
       "<table border=\"1\" class=\"dataframe\">\n",
       "  <thead>\n",
       "    <tr style=\"text-align: right;\">\n",
       "      <th></th>\n",
       "      <th>id</th>\n",
       "      <th>listing_url</th>\n",
       "      <th>scrape_id</th>\n",
       "      <th>last_scraped</th>\n",
       "      <th>source</th>\n",
       "      <th>name</th>\n",
       "      <th>description</th>\n",
       "      <th>neighborhood_overview</th>\n",
       "      <th>picture_url</th>\n",
       "      <th>host_id</th>\n",
       "      <th>...</th>\n",
       "      <th>review_scores_communication</th>\n",
       "      <th>review_scores_location</th>\n",
       "      <th>review_scores_value</th>\n",
       "      <th>license</th>\n",
       "      <th>instant_bookable</th>\n",
       "      <th>calculated_host_listings_count</th>\n",
       "      <th>calculated_host_listings_count_entire_homes</th>\n",
       "      <th>calculated_host_listings_count_private_rooms</th>\n",
       "      <th>calculated_host_listings_count_shared_rooms</th>\n",
       "      <th>reviews_per_month</th>\n",
       "    </tr>\n",
       "  </thead>\n",
       "  <tbody>\n",
       "    <tr>\n",
       "      <th>0</th>\n",
       "      <td>11156.0</td>\n",
       "      <td>https://www.airbnb.com/rooms/11156</td>\n",
       "      <td>2.020000e+13</td>\n",
       "      <td>14/3/2023</td>\n",
       "      <td>city scrape</td>\n",
       "      <td>An Oasis in the City</td>\n",
       "      <td>Very central to the city which can be reached ...</td>\n",
       "      <td>It is very close to everything and everywhere,...</td>\n",
       "      <td>https://a0.muscache.com/pictures/2797669/17895...</td>\n",
       "      <td>40855</td>\n",
       "      <td>...</td>\n",
       "      <td>4.76</td>\n",
       "      <td>4.82</td>\n",
       "      <td>4.71</td>\n",
       "      <td>NaN</td>\n",
       "      <td>f</td>\n",
       "      <td>1</td>\n",
       "      <td>0</td>\n",
       "      <td>1</td>\n",
       "      <td>0</td>\n",
       "      <td>1.21</td>\n",
       "    </tr>\n",
       "    <tr>\n",
       "      <th>1</th>\n",
       "      <td>15253.0</td>\n",
       "      <td>https://www.airbnb.com/rooms/15253</td>\n",
       "      <td>2.020000e+13</td>\n",
       "      <td>13/3/2023</td>\n",
       "      <td>city scrape</td>\n",
       "      <td>Unique Designer Rooftop Apartment in City Loca...</td>\n",
       "      <td>You will be staying in a unique duplex apartme...</td>\n",
       "      <td>The location is really central and there is nu...</td>\n",
       "      <td>https://a0.muscache.com/pictures/miso/Hosting-...</td>\n",
       "      <td>59850</td>\n",
       "      <td>...</td>\n",
       "      <td>4.72</td>\n",
       "      <td>4.75</td>\n",
       "      <td>4.53</td>\n",
       "      <td>PID-STRA-24061-7</td>\n",
       "      <td>t</td>\n",
       "      <td>2</td>\n",
       "      <td>1</td>\n",
       "      <td>1</td>\n",
       "      <td>0</td>\n",
       "      <td>3.58</td>\n",
       "    </tr>\n",
       "  </tbody>\n",
       "</table>\n",
       "<p>2 rows × 75 columns</p>\n",
       "</div>"
      ],
      "text/plain": [
       "        id                         listing_url     scrape_id last_scraped  \\\n",
       "0  11156.0  https://www.airbnb.com/rooms/11156  2.020000e+13    14/3/2023   \n",
       "1  15253.0  https://www.airbnb.com/rooms/15253  2.020000e+13    13/3/2023   \n",
       "\n",
       "        source                                               name  \\\n",
       "0  city scrape                               An Oasis in the City   \n",
       "1  city scrape  Unique Designer Rooftop Apartment in City Loca...   \n",
       "\n",
       "                                         description  \\\n",
       "0  Very central to the city which can be reached ...   \n",
       "1  You will be staying in a unique duplex apartme...   \n",
       "\n",
       "                               neighborhood_overview  \\\n",
       "0  It is very close to everything and everywhere,...   \n",
       "1  The location is really central and there is nu...   \n",
       "\n",
       "                                         picture_url  host_id  ...  \\\n",
       "0  https://a0.muscache.com/pictures/2797669/17895...    40855  ...   \n",
       "1  https://a0.muscache.com/pictures/miso/Hosting-...    59850  ...   \n",
       "\n",
       "  review_scores_communication review_scores_location review_scores_value  \\\n",
       "0                        4.76                   4.82                4.71   \n",
       "1                        4.72                   4.75                4.53   \n",
       "\n",
       "            license instant_bookable calculated_host_listings_count  \\\n",
       "0               NaN                f                              1   \n",
       "1  PID-STRA-24061-7                t                              2   \n",
       "\n",
       "  calculated_host_listings_count_entire_homes  \\\n",
       "0                                           0   \n",
       "1                                           1   \n",
       "\n",
       "  calculated_host_listings_count_private_rooms  \\\n",
       "0                                            1   \n",
       "1                                            1   \n",
       "\n",
       "  calculated_host_listings_count_shared_rooms reviews_per_month  \n",
       "0                                           0              1.21  \n",
       "1                                           0              3.58  \n",
       "\n",
       "[2 rows x 75 columns]"
      ]
     },
     "execution_count": 27,
     "metadata": {},
     "output_type": "execute_result"
    }
   ],
   "source": [
    "listings_data.head(2)"
   ]
  },
  {
   "cell_type": "markdown",
   "metadata": {},
   "source": [
    "We can see that `FACE_VALUE` is numbers, we call that a _continuous_ value, so we can make histograms and other kinds of plots of it. `LEGISLATION` is strings, or _categorical_ values. We can't graph a string, but we can count how many times it shows up, and graph that number."
   ]
  },
  {
   "cell_type": "code",
   "execution_count": 28,
   "metadata": {
    "slideshow": {
     "slide_type": "-"
    }
   },
   "outputs": [
    {
     "data": {
      "text/plain": [
       "5.00    8050\n",
       "4.00     421\n",
       "4.50     365\n",
       "4.96     333\n",
       "4.95     332\n",
       "        ... \n",
       "3.70       1\n",
       "4.02       1\n",
       "3.38       1\n",
       "3.79       1\n",
       "2.40       1\n",
       "Name: review_scores_communication, Length: 145, dtype: int64"
      ]
     },
     "execution_count": 28,
     "metadata": {},
     "output_type": "execute_result"
    }
   ],
   "source": [
    "listings_data.review_scores_communication.value_counts()"
   ]
  },
  {
   "cell_type": "markdown",
   "metadata": {
    "slideshow": {
     "slide_type": "fragment"
    }
   },
   "source": [
    "*ROAD RULES 2008* and *2014* are pretty popular, but only one person got a ticket under the *COMBAT SPORTS REGULATION 2014* and one other person got booked for something under the *TATTOO PARLOURS REGULATION 2013*"
   ]
  },
  {
   "cell_type": "code",
   "execution_count": 29,
   "metadata": {
    "slideshow": {
     "slide_type": "slide"
    }
   },
   "outputs": [
    {
     "data": {
      "text/plain": [
       "<AxesSubplot:>"
      ]
     },
     "execution_count": 29,
     "metadata": {},
     "output_type": "execute_result"
    },
    {
     "data": {
      "image/png": "[encoded data removed]",
      "text/plain": [
       "<Figure size 720x360 with 1 Axes>"
      ]
     },
     "metadata": {
      "needs_background": "light"
     },
     "output_type": "display_data"
    }
   ],
   "source": [
    "pdvc = listings_data.review_scores_communication.value_counts() # This makes a series\n",
    "pdvc.plot(kind=\"bar\")"
   ]
  },
  {
   "cell_type": "markdown",
   "metadata": {
    "slideshow": {
     "slide_type": "slide"
    }
   },
   "source": [
    "We're going to see this distribution over and over again as we look at all kinds of data set.\n",
    "\n",
    "These are probably the most common distributions, but they leave off the [power law](https://en.wikipedia.org/wiki/Power_law), which I think this probably is. \n",
    "\n",
    "![some common distributions and their relationships](https://storage.ning.com/topology/rest/1.0/file/get/136706870?profile=original&width=600) \n",
    "\n",
    "from [here](https://www.datasciencecentral.com/profiles/blogs/common-probability-distributions-the-data-scientist-s-crib-sheet)"
   ]
  },
  {
   "cell_type": "code",
   "execution_count": 30,
   "metadata": {
    "slideshow": {
     "slide_type": "slide"
    }
   },
   "outputs": [
    {
     "data": {
      "image/png": "[encoded data removed]",
      "text/plain": [
       "<Figure size 720x360 with 1 Axes>"
      ]
     },
     "metadata": {
      "needs_background": "light"
     },
     "output_type": "display_data"
    }
   ],
   "source": [
    "pdvc = listings_data.review_scores_communication.value_counts() \n",
    "pdvc[pdvc < 500].plot(kind=\"bar\");"
   ]
  },
  {
   "cell_type": "markdown",
   "metadata": {
    "slideshow": {
     "slide_type": "slide"
    }
   },
   "source": [
    "This pattern keeps repeating itself:"
   ]
  },
  {
   "cell_type": "code",
   "execution_count": 31,
   "metadata": {
    "slideshow": {
     "slide_type": "slide"
    }
   },
   "outputs": [
    {
     "data": {
      "text/plain": [
       "<AxesSubplot:>"
      ]
     },
     "execution_count": 31,
     "metadata": {},
     "output_type": "execute_result"
    },
    {
     "data": {
      "image/png": "[encoded data removed]",
      "text/plain": [
       "<Figure size 720x360 with 1 Axes>"
      ]
     },
     "metadata": {
      "needs_background": "light"
     },
     "output_type": "display_data"
    }
   ],
   "source": [
    "pdvc[pdvc < 400].plot(kind=\"bar\")"
   ]
  },
  {
   "cell_type": "code",
   "execution_count": 32,
   "metadata": {
    "slideshow": {
     "slide_type": "slide"
    }
   },
   "outputs": [
    {
     "data": {
      "text/plain": [
       "<AxesSubplot:>"
      ]
     },
     "execution_count": 32,
     "metadata": {},
     "output_type": "execute_result"
    },
    {
     "data": {
      "image/png": "[encoded data removed]",
      "text/plain": [
       "<Figure size 720x360 with 1 Axes>"
      ]
     },
     "metadata": {
      "needs_background": "light"
     },
     "output_type": "display_data"
    }
   ],
   "source": [
    "pdvc[pdvc < 300].plot(kind=\"bar\")"
   ]
  },
  {
   "cell_type": "markdown",
   "metadata": {},
   "source": [
    "There are a bunch of _keyword arguments_ that you can give to the `plot` function. In this case, let's flip it on into its side so we can read the labels more easily:"
   ]
  },
  {
   "cell_type": "code",
   "execution_count": 33,
   "metadata": {
    "slideshow": {
     "slide_type": "slide"
    }
   },
   "outputs": [
    {
     "data": {
      "text/plain": [
       "<AxesSubplot:>"
      ]
     },
     "execution_count": 33,
     "metadata": {},
     "output_type": "execute_result"
    },
    {
     "data": {
      "image/png": "[encoded data removed]",
      "text/plain": [
       "<Figure size 720x360 with 1 Axes>"
      ]
     },
     "metadata": {
      "needs_background": "light"
     },
     "output_type": "display_data"
    }
   ],
   "source": [
    "pdvc[pdvc < 8].plot(kind=\"bar\")"
   ]
  },
  {
   "cell_type": "markdown",
   "metadata": {
    "slideshow": {
     "slide_type": "slide"
    }
   },
   "source": [
    "# Making plots nice"
   ]
  },
  {
   "cell_type": "markdown",
   "metadata": {
    "slideshow": {
     "slide_type": "slide"
    }
   },
   "source": [
    "I said we'd come back to our histogram. [Here's a demo histogram from the matplotlib website](http://matplotlib.org/1.2.1/examples/pylab_examples/histogram_demo.html)."
   ]
  },
  {
   "cell_type": "code",
   "execution_count": 34,
   "metadata": {},
   "outputs": [],
   "source": [
    "# This bit makes some random data. Ignore it unless you are a total nerd\n",
    "mu = 100\n",
    "sigma = 15\n",
    "x = mu + sigma * np.random.randn(10000)\n"
   ]
  },
  {
   "cell_type": "code",
   "execution_count": 35,
   "metadata": {},
   "outputs": [
    {
     "data": {
      "image/png": "[encoded data removed]",
      "text/plain": [
       "<Figure size 720x360 with 1 Axes>"
      ]
     },
     "metadata": {
      "needs_background": "light"
     },
     "output_type": "display_data"
    }
   ],
   "source": [
    "# the histogram of the data\n",
    "plt.hist(x, 50, density=1, facecolor=\"green\", alpha=0.75)\n",
    "plt.xlabel(\"Smarts\")\n",
    "plt.ylabel(\"Probability\")\n",
    "plt.title(\n",
    "    r\"$\\mathrm{Histogram\\ of\\ IQ:}\\ \\mu=100,\\ \\sigma=15$\"\n",
    ")  # allows for latex formatting\n",
    "plt.grid(True)\n",
    "# plt.show()\n"
   ]
  },
  {
   "cell_type": "markdown",
   "metadata": {
    "slideshow": {
     "slide_type": "slide"
    }
   },
   "source": [
    "Here's how we made our histogram before:"
   ]
  },
  {
   "cell_type": "code",
   "execution_count": 36,
   "metadata": {},
   "outputs": [
    {
     "data": {
      "text/plain": [
       "<AxesSubplot:>"
      ]
     },
     "execution_count": 36,
     "metadata": {},
     "output_type": "execute_result"
    },
    {
     "data": {
      "image/png": "[encoded data removed]",
      "text/plain": [
       "<Figure size 720x360 with 1 Axes>"
      ]
     },
     "metadata": {
      "needs_background": "light"
     },
     "output_type": "display_data"
    }
   ],
   "source": [
    "listings_data.review_scores_communication[listings_data.review_scores_communication < 4].hist()\n"
   ]
  },
  {
   "cell_type": "markdown",
   "metadata": {
    "slideshow": {
     "slide_type": "slide"
    }
   },
   "source": [
    "This is using the graphing tools from inside pandas\n",
    "\n",
    "And this is how we'd change it so that we can add more features, by using Matplotlib directly:"
   ]
  },
  {
   "cell_type": "code",
   "execution_count": 37,
   "metadata": {},
   "outputs": [
    {
     "data": {
      "image/png": "[encoded data removed]",
      "text/plain": [
       "<Figure size 720x360 with 1 Axes>"
      ]
     },
     "metadata": {
      "needs_background": "light"
     },
     "output_type": "display_data"
    }
   ],
   "source": [
    "review_scores_communication_data = listings_data.review_scores_communication[listings_data.review_scores_communication < 4]\n",
    "plt.hist(review_scores_communication_data)\n",
    "plt.show()\n"
   ]
  },
  {
   "cell_type": "markdown",
   "metadata": {
    "collapsed": true,
    "slideshow": {
     "slide_type": "slide"
    }
   },
   "source": [
    "Let's look at some of the things we can do to this. The docs for histograms are here: http://matplotlib.org/api/pyplot_api.html#matplotlib.pyplot.hist"
   ]
  },
  {
   "cell_type": "code",
   "execution_count": 38,
   "metadata": {},
   "outputs": [
    {
     "data": {
      "image/png": "[encoded data removed]",
      "text/plain": [
       "<Figure size 720x360 with 1 Axes>"
      ]
     },
     "metadata": {
      "needs_background": "light"
     },
     "output_type": "display_data"
    }
   ],
   "source": [
    "review_scores_communication_data = listings_data.review_scores_communication[listings_data.review_scores_communication < 4]\n",
    "\n",
    "# We can keep adding things to this plot to see what's going on.\n",
    "plt.hist(review_scores_communication_data, bins=10, facecolor=\"blue\", alpha=0.2)  # <-old one\n",
    "plt.hist(review_scores_communication_data, bins=50, facecolor=\"green\", alpha=1)  # <-new one\n",
    "plt.show()\n"
   ]
  },
  {
   "cell_type": "markdown",
   "metadata": {
    "slideshow": {
     "slide_type": "slide"
    }
   },
   "source": [
    "We can go back to our initial, unfiltered, data:"
   ]
  },
  {
   "cell_type": "code",
   "execution_count": 39,
   "metadata": {},
   "outputs": [
    {
     "data": {
      "image/png": "[encoded data removed]",
      "text/plain": [
       "<Figure size 720x360 with 1 Axes>"
      ]
     },
     "metadata": {
      "needs_background": "light"
     },
     "output_type": "display_data"
    }
   ],
   "source": [
    "plt.hist(listings_data.review_scores_communication, bins=15)\n",
    "plt.show()"
   ]
  },
  {
   "cell_type": "markdown",
   "metadata": {
    "slideshow": {
     "slide_type": "slide"
    }
   },
   "source": [
    "Instead of doing the filtering before we present the data, we can use the graph to hide the extents of an axis:"
   ]
  },
  {
   "cell_type": "markdown",
   "metadata": {
    "slideshow": {
     "slide_type": "slide"
    }
   },
   "source": [
    "We can nice that up a bit by pulling the parameters out as variables:\n",
    "(unmagically, no difference!)"
   ]
  },
  {
   "cell_type": "markdown",
   "metadata": {},
   "source": [
    "This is still pretty naughty, we should have at least a title and some axis lables.\n",
    "\n",
    "We do that by setting some more properties on the `plt` object.\n",
    "\n",
    "Definitely a title and some axis labels. If you make charts/plots without axis labels, Linus Torvalds kills a kitten."
   ]
  },
  {
   "cell_type": "markdown",
   "metadata": {
    "slideshow": {
     "slide_type": "slide"
    }
   },
   "source": [
    "We could get the dates from the dataset if we wanted to be clever about it. But at the moment, the dates are just strings, not useful date objects. Let's fix that.\n",
    "\n",
    "If we reimport the date, but with a bit more cleverness, we can tell pandas to convert the dates to actual dates.\n",
    "\n",
    "Because _we_ are civilised, we use either iso dates `YYYY-MM-DD` or `DD-MM-YYYY`, but often you'll have to deal with data prepared by savages who don't respect this rational behaviour. They will use `MM-DD-YY` and other such primitive formats.\n",
    "\n",
    "The settings used here control how it's read. You can only really tell by looking at the data and working it out. E.g. are there months bigger than 12?"
   ]
  },
  {
   "cell_type": "code",
   "execution_count": 43,
   "metadata": {
    "slideshow": {
     "slide_type": "-"
    }
   },
   "outputs": [
    {
     "data": {
      "text/html": [
       "<div>\n",
       "<style scoped>\n",
       "    .dataframe tbody tr th:only-of-type {\n",
       "        vertical-align: middle;\n",
       "    }\n",
       "\n",
       "    .dataframe tbody tr th {\n",
       "        vertical-align: top;\n",
       "    }\n",
       "\n",
       "    .dataframe thead th {\n",
       "        text-align: right;\n",
       "    }\n",
       "</style>\n",
       "<table border=\"1\" class=\"dataframe\">\n",
       "  <thead>\n",
       "    <tr style=\"text-align: right;\">\n",
       "      <th></th>\n",
       "      <th>id</th>\n",
       "      <th>listing_url</th>\n",
       "      <th>scrape_id</th>\n",
       "      <th>last_scraped</th>\n",
       "      <th>source</th>\n",
       "      <th>name</th>\n",
       "      <th>description</th>\n",
       "      <th>neighborhood_overview</th>\n",
       "      <th>picture_url</th>\n",
       "      <th>host_id</th>\n",
       "      <th>...</th>\n",
       "      <th>review_scores_communication</th>\n",
       "      <th>review_scores_location</th>\n",
       "      <th>review_scores_value</th>\n",
       "      <th>license</th>\n",
       "      <th>instant_bookable</th>\n",
       "      <th>calculated_host_listings_count</th>\n",
       "      <th>calculated_host_listings_count_entire_homes</th>\n",
       "      <th>calculated_host_listings_count_private_rooms</th>\n",
       "      <th>calculated_host_listings_count_shared_rooms</th>\n",
       "      <th>reviews_per_month</th>\n",
       "    </tr>\n",
       "  </thead>\n",
       "  <tbody>\n",
       "    <tr>\n",
       "      <th>0</th>\n",
       "      <td>11156.0</td>\n",
       "      <td>https://www.airbnb.com/rooms/11156</td>\n",
       "      <td>2.020000e+13</td>\n",
       "      <td>14/3/2023</td>\n",
       "      <td>city scrape</td>\n",
       "      <td>An Oasis in the City</td>\n",
       "      <td>Very central to the city which can be reached ...</td>\n",
       "      <td>It is very close to everything and everywhere,...</td>\n",
       "      <td>https://a0.muscache.com/pictures/2797669/17895...</td>\n",
       "      <td>40855</td>\n",
       "      <td>...</td>\n",
       "      <td>4.76</td>\n",
       "      <td>4.82</td>\n",
       "      <td>4.71</td>\n",
       "      <td>NaN</td>\n",
       "      <td>f</td>\n",
       "      <td>1</td>\n",
       "      <td>0</td>\n",
       "      <td>1</td>\n",
       "      <td>0</td>\n",
       "      <td>1.21</td>\n",
       "    </tr>\n",
       "    <tr>\n",
       "      <th>1</th>\n",
       "      <td>15253.0</td>\n",
       "      <td>https://www.airbnb.com/rooms/15253</td>\n",
       "      <td>2.020000e+13</td>\n",
       "      <td>13/3/2023</td>\n",
       "      <td>city scrape</td>\n",
       "      <td>Unique Designer Rooftop Apartment in City Loca...</td>\n",
       "      <td>You will be staying in a unique duplex apartme...</td>\n",
       "      <td>The location is really central and there is nu...</td>\n",
       "      <td>https://a0.muscache.com/pictures/miso/Hosting-...</td>\n",
       "      <td>59850</td>\n",
       "      <td>...</td>\n",
       "      <td>4.72</td>\n",
       "      <td>4.75</td>\n",
       "      <td>4.53</td>\n",
       "      <td>PID-STRA-24061-7</td>\n",
       "      <td>t</td>\n",
       "      <td>2</td>\n",
       "      <td>1</td>\n",
       "      <td>1</td>\n",
       "      <td>0</td>\n",
       "      <td>3.58</td>\n",
       "    </tr>\n",
       "  </tbody>\n",
       "</table>\n",
       "<p>2 rows × 75 columns</p>\n",
       "</div>"
      ],
      "text/plain": [
       "        id                         listing_url     scrape_id last_scraped  \\\n",
       "0  11156.0  https://www.airbnb.com/rooms/11156  2.020000e+13    14/3/2023   \n",
       "1  15253.0  https://www.airbnb.com/rooms/15253  2.020000e+13    13/3/2023   \n",
       "\n",
       "        source                                               name  \\\n",
       "0  city scrape                               An Oasis in the City   \n",
       "1  city scrape  Unique Designer Rooftop Apartment in City Loca...   \n",
       "\n",
       "                                         description  \\\n",
       "0  Very central to the city which can be reached ...   \n",
       "1  You will be staying in a unique duplex apartme...   \n",
       "\n",
       "                               neighborhood_overview  \\\n",
       "0  It is very close to everything and everywhere,...   \n",
       "1  The location is really central and there is nu...   \n",
       "\n",
       "                                         picture_url  host_id  ...  \\\n",
       "0  https://a0.muscache.com/pictures/2797669/17895...    40855  ...   \n",
       "1  https://a0.muscache.com/pictures/miso/Hosting-...    59850  ...   \n",
       "\n",
       "  review_scores_communication review_scores_location review_scores_value  \\\n",
       "0                        4.76                   4.82                4.71   \n",
       "1                        4.72                   4.75                4.53   \n",
       "\n",
       "            license instant_bookable calculated_host_listings_count  \\\n",
       "0               NaN                f                              1   \n",
       "1  PID-STRA-24061-7                t                              2   \n",
       "\n",
       "  calculated_host_listings_count_entire_homes  \\\n",
       "0                                           0   \n",
       "1                                           1   \n",
       "\n",
       "  calculated_host_listings_count_private_rooms  \\\n",
       "0                                            1   \n",
       "1                                            1   \n",
       "\n",
       "  calculated_host_listings_count_shared_rooms reviews_per_month  \n",
       "0                                           0              1.21  \n",
       "1                                           0              3.58  \n",
       "\n",
       "[2 rows x 75 columns]"
      ]
     },
     "execution_count": 43,
     "metadata": {},
     "output_type": "execute_result"
    }
   ],
   "source": [
    "listings_data = pd.read_csv(\n",
    "    filepath,\n",
    "    infer_datetime_format=True,\n",
    "    parse_dates=[\"host_since\"],\n",
    "    dayfirst=True,\n",
    ")\n",
    "listings_data.head(2)\n"
   ]
  },
  {
   "cell_type": "markdown",
   "metadata": {},
   "source": [
    "This is some straight up, powerful voodoo.\n",
    "\n",
    "We can use a simple `min()` and `max()` method on the column to get the date range."
   ]
  },
  {
   "cell_type": "markdown",
   "metadata": {},
   "source": [
    "That's not very nice to look at, so we can [use `strftime`](https://strftime.org/), which is one of the most spooky and powerful things in the python toolbox"
   ]
  },
  {
   "cell_type": "code",
   "execution_count": 73,
   "metadata": {},
   "outputs": [
    {
     "data": {
      "text/plain": [
       "'range is: June, 2009 to March, 2023'"
      ]
     },
     "execution_count": 73,
     "metadata": {},
     "output_type": "execute_result"
    }
   ],
   "source": [
    "date_format_pattern = \"%B, %Y\"\n",
    "earliest_date = datetime.strftime(listings_data.host_since.min(), date_format_pattern)\n",
    "latest_date = datetime.strftime(listings_data.host_since.max(), date_format_pattern)\n",
    "f\"range is: {earliest_date} to {latest_date}\"\n"
   ]
  },
  {
   "cell_type": "markdown",
   "metadata": {},
   "source": [
    "Which means that we can put those values into our graph title:"
   ]
  },
  {
   "cell_type": "code",
   "execution_count": 74,
   "metadata": {},
   "outputs": [],
   "source": [
    "# number_of_bins = 100\n",
    "# lower_bound = 0\n",
    "# upper_bound = 1000\n",
    "\n",
    "# plt.hist(\n",
    "#     penalty_data[\"FACE_VALUE\"], bins=number_of_bins, range=(lower_bound, upper_bound)\n",
    "# )\n",
    "# plt.title(\n",
    "#     f\"Number of fines of a given value issued between {earliest_date} & {latest_date}\",\n",
    "#     fontsize=12,\n",
    "# )\n",
    "# plt.xlabel(\"$ value of fine\", fontsize=10)\n",
    "# plt.ylabel(\"Count\", fontsize=10)\n",
    "# plt.grid(True)\n",
    "# plt.show()\n"
   ]
  },
  {
   "cell_type": "markdown",
   "metadata": {
    "slideshow": {
     "slide_type": "slide"
    }
   },
   "source": [
    "We're grouping the fines by month, and then adding up the groups. Pandas' `groupby` feature allows for all kinds of clever stuff like that.\n",
    "\n",
    "I'm not going to explain `groupby` here, just be aware that it exists, and when you need it, we can go over it again."
   ]
  },
  {
   "cell_type": "code",
   "execution_count": 75,
   "metadata": {
    "slideshow": {
     "slide_type": "subslide"
    }
   },
   "outputs": [],
   "source": [
    "# income = penalty_data[[\"OFFENCE_MONTH\", \"FACE_VALUE\"]].groupby(\"OFFENCE_MONTH\").sum()\n",
    "\n",
    "# plt.xkcd()\n",
    "# plt.plot(income, \"x-\")\n",
    "# plt.title(\"Monthly income from fines\", fontsize=18)\n",
    "# plt.xlabel(\"Date\", fontsize=26)\n",
    "# plt.ylabel(\"$ Value\", fontsize=26)\n",
    "# plt.grid(True)\n",
    "# plt.show()\n"
   ]
  },
  {
   "cell_type": "code",
   "execution_count": 76,
   "metadata": {
    "slideshow": {
     "slide_type": "skip"
    }
   },
   "outputs": [],
   "source": [
    "matplotlib.rcParams.update(\n",
    "    saved_style_state\n",
    ")  # revert to regular matplotlib styles, not xkcd\n"
   ]
  },
  {
   "cell_type": "markdown",
   "metadata": {
    "slideshow": {
     "slide_type": "slide"
    }
   },
   "source": [
    "I don't expect you to learn this this week, I just want to give you a taste of what can be done, quite simply, with pandas and matplotlib.\n",
    "\n",
    "# some tricky tricks\n",
    "\n",
    "Say you have a _lot_ of rows, running things on them takes a long time. You can test on a subset of that and then come bakc to the full dataframe once you are more sure that it works.\n",
    "\n",
    "To do this we can use python slices in combination with the dataframe's `.loc` property."
   ]
  },
  {
   "cell_type": "code",
   "execution_count": 77,
   "metadata": {},
   "outputs": [],
   "source": [
    "# ss = penalty_data.loc[:5]\n"
   ]
  },
  {
   "cell_type": "markdown",
   "metadata": {
    "slideshow": {
     "slide_type": "slide"
    }
   },
   "source": [
    "Let's say you want to apply a function to each row in a dataframe, and save the result as a new column in the dataframe. This is where `apply` come in handy."
   ]
  },
  {
   "cell_type": "code",
   "execution_count": 78,
   "metadata": {
    "slideshow": {
     "slide_type": "subslide"
    }
   },
   "outputs": [],
   "source": [
    "# ss[\"day_from_lambda\"] = ss.apply(lambda x: x.OFFENCE_MONTH.day, axis=1)\n",
    "# ss.head(2)\n"
   ]
  },
  {
   "cell_type": "markdown",
   "metadata": {
    "slideshow": {
     "slide_type": "subslide"
    }
   },
   "source": [
    "Above is equivalent to below, it's up to you to decide what is more readable."
   ]
  },
  {
   "cell_type": "code",
   "execution_count": 79,
   "metadata": {
    "slideshow": {
     "slide_type": "-"
    }
   },
   "outputs": [],
   "source": [
    "# def my_f(x):\n",
    "#     return x.OFFENCE_MONTH.day\n",
    "\n",
    "\n",
    "# ss[\"day_from_function\"] = ss.apply(my_f, axis=1)\n",
    "# ss.head(1)\n"
   ]
  },
  {
   "cell_type": "markdown",
   "metadata": {},
   "source": [
    "Scroll all the way to the right to see the new column that we've created. Both of these ways of doing this make dan-numbers. What if we wanted to get day names? That's much easier to graph. W can use `strftime` again:"
   ]
  },
  {
   "cell_type": "code",
   "execution_count": null,
   "metadata": {},
   "outputs": [
    {
     "name": "stderr",
     "output_type": "stream",
     "text": [
      "/var/folders/h7/2f3zxpvd1q5ddv0m_sjf33vm0000gn/T/ipykernel_49483/2432571321.py:5: SettingWithCopyWarning: \n",
      "A value is trying to be set on a copy of a slice from a DataFrame.\n",
      "Try using .loc[row_indexer,col_indexer] = value instead\n",
      "\n",
      "See the caveats in the documentation: https://pandas.pydata.org/pandas-docs/stable/user_guide/indexing.html#returning-a-view-versus-a-copy\n",
      "  ss[\"nice_day\"] = ss.apply(my_f, axis=1)\n"
     ]
    },
    {
     "data": {
      "text/html": [
       "<div>\n",
       "<style scoped>\n",
       "    .dataframe tbody tr th:only-of-type {\n",
       "        vertical-align: middle;\n",
       "    }\n",
       "\n",
       "    .dataframe tbody tr th {\n",
       "        vertical-align: top;\n",
       "    }\n",
       "\n",
       "    .dataframe thead th {\n",
       "        text-align: right;\n",
       "    }\n",
       "</style>\n",
       "<table border=\"1\" class=\"dataframe\">\n",
       "  <thead>\n",
       "    <tr style=\"text-align: right;\">\n",
       "      <th></th>\n",
       "      <th>OFFENCE_FINYEAR</th>\n",
       "      <th>OFFENCE_MONTH</th>\n",
       "      <th>OFFENCE_CODE</th>\n",
       "      <th>OFFENCE_DESC</th>\n",
       "      <th>LEGISLATION</th>\n",
       "      <th>SECTION_CLAUSE</th>\n",
       "      <th>FACE_VALUE</th>\n",
       "      <th>CAMERA_IND</th>\n",
       "      <th>CAMERA_TYPE</th>\n",
       "      <th>LOCATION_CODE</th>\n",
       "      <th>...</th>\n",
       "      <th>MOBILE_PHONE_IND</th>\n",
       "      <th>PARKING_IND</th>\n",
       "      <th>CINS_IND</th>\n",
       "      <th>FOOD_IND</th>\n",
       "      <th>BICYCLE_TOY_ETC_IND</th>\n",
       "      <th>TOTAL_NUMBER</th>\n",
       "      <th>TOTAL_VALUE</th>\n",
       "      <th>day_from_lambda</th>\n",
       "      <th>day_from_function</th>\n",
       "      <th>nice_day</th>\n",
       "    </tr>\n",
       "  </thead>\n",
       "  <tbody>\n",
       "    <tr>\n",
       "      <th>0</th>\n",
       "      <td>2011-2012</td>\n",
       "      <td>2011-07-01</td>\n",
       "      <td>74731</td>\n",
       "      <td>Proceed through red traffic light - Camera Det...</td>\n",
       "      <td>ROAD RULES 2008</td>\n",
       "      <td>59(1)</td>\n",
       "      <td>353</td>\n",
       "      <td>Y</td>\n",
       "      <td>Red Light / Speed Camera</td>\n",
       "      <td>7163.0</td>\n",
       "      <td>...</td>\n",
       "      <td>NaN</td>\n",
       "      <td>NaN</td>\n",
       "      <td>NaN</td>\n",
       "      <td>NaN</td>\n",
       "      <td>NaN</td>\n",
       "      <td>46</td>\n",
       "      <td>16238</td>\n",
       "      <td>1</td>\n",
       "      <td>1</td>\n",
       "      <td>Friday</td>\n",
       "    </tr>\n",
       "  </tbody>\n",
       "</table>\n",
       "<p>1 rows × 28 columns</p>\n",
       "</div>"
      ],
      "text/plain": [
       "  OFFENCE_FINYEAR OFFENCE_MONTH  OFFENCE_CODE  \\\n",
       "0       2011-2012    2011-07-01         74731   \n",
       "\n",
       "                                        OFFENCE_DESC      LEGISLATION  \\\n",
       "0  Proceed through red traffic light - Camera Det...  ROAD RULES 2008   \n",
       "\n",
       "  SECTION_CLAUSE  FACE_VALUE CAMERA_IND               CAMERA_TYPE  \\\n",
       "0          59(1)         353          Y  Red Light / Speed Camera   \n",
       "\n",
       "   LOCATION_CODE  ... MOBILE_PHONE_IND PARKING_IND CINS_IND FOOD_IND  \\\n",
       "0         7163.0  ...              NaN         NaN      NaN      NaN   \n",
       "\n",
       "  BICYCLE_TOY_ETC_IND TOTAL_NUMBER TOTAL_VALUE day_from_lambda  \\\n",
       "0                 NaN           46       16238               1   \n",
       "\n",
       "  day_from_function nice_day  \n",
       "0                 1   Friday  \n",
       "\n",
       "[1 rows x 28 columns]"
      ]
     },
     "execution_count": 64,
     "metadata": {},
     "output_type": "execute_result"
    }
   ],
   "source": [
    "# def my_f(x):\n",
    "#     return datetime.strftime(x.OFFENCE_MONTH, \"%A\")\n",
    "\n",
    "\n",
    "# ss[\"nice_day\"] = ss.apply(my_f, axis=1)\n",
    "# ss.head(1)\n"
   ]
  },
  {
   "cell_type": "markdown",
   "metadata": {},
   "source": [
    "Then once we're confident that it works, we can switch back from the limited part of the dataframe to the full dataframe:"
   ]
  },
  {
   "cell_type": "code",
   "execution_count": 80,
   "metadata": {},
   "outputs": [],
   "source": [
    "# def my_f(x):\n",
    "#     return datetime.strftime(x.OFFENCE_MONTH, \"%A\")\n",
    "\n",
    "\n",
    "# penalty_data[\"nice_day\"] = penalty_data.apply(my_f, axis=1)\n",
    "# penalty_data.nice_day.value_counts().plot(kind=\"bar\")\n"
   ]
  },
  {
   "cell_type": "markdown",
   "metadata": {
    "slideshow": {
     "slide_type": "slide"
    }
   },
   "source": [
    "And we can see that most of these fines are booked on a Sunday, which is a real _hmm_ moment 🤔\n",
    "\n",
    "This would be the kind of question that it'd be good to explore in your project.\n",
    "\n",
    "---\n",
    "\n",
    "How do we tell the computer to treat _facade_ and _fašade_ the same? What about _University of new south wales_, _University of New South Wales_, _University of NSW_, _UNSW_, _New-south_?\n",
    "\n",
    "## The answer is _folding_\n",
    "\n",
    "_(This is a \"pattern\")_"
   ]
  },
  {
   "cell_type": "code",
   "execution_count": 81,
   "metadata": {
    "slideshow": {
     "slide_type": "slide"
    }
   },
   "outputs": [
    {
     "name": "stdout",
     "output_type": "stream",
     "text": [
      "uni of stairs\n",
      "Ben Doherty\n"
     ]
    }
   ],
   "source": [
    "def fold(given):\n",
    "    \"\"\"Return canonical versions of inputs.\"\"\"\n",
    "\n",
    "    # Use canonical variables so that you can define once, use many times.\n",
    "    UNSW_canonical = \"uni of stairs\"\n",
    "    ben_name_cannonical = \"Ben Doherty\"\n",
    "\n",
    "    # dictionary of input:output pairs\n",
    "    folds = {\n",
    "        \"University of new south wales\": UNSW_canonical,\n",
    "        \"University of New South Wales\": UNSW_canonical,\n",
    "        \"University of NSW\": UNSW_canonical,\n",
    "        \"UNSW\": UNSW_canonical,\n",
    "        \"New-south\": UNSW_canonical,\n",
    "        \"BDoh\": ben_name_cannonical,\n",
    "        \"Benny\": ben_name_cannonical,\n",
    "        \"Mr Dockerty\": ben_name_cannonical,\n",
    "        \"Oi, Dickhead!\": ben_name_cannonical,\n",
    "    }\n",
    "\n",
    "    #     return folds[given] # needs a defensive part, but ommited for clarity.\n",
    "    default_value = given\n",
    "    return folds.get(given, default_value)\n",
    "\n",
    "\n",
    "print(fold(\"New-south\"))\n",
    "print(fold(\"BDoh\"))\n"
   ]
  },
  {
   "cell_type": "markdown",
   "metadata": {
    "slideshow": {
     "slide_type": "slide"
    }
   },
   "source": [
    "So you could use this function in an `apply` to make a new column on cleaned up values.\n",
    "\n",
    "# _fin_"
   ]
  },
  {
   "cell_type": "code",
   "execution_count": 45,
   "metadata": {},
   "outputs": [
    {
     "data": {
      "text/plain": [
       "(22659, 75)"
      ]
     },
     "execution_count": 45,
     "metadata": {},
     "output_type": "execute_result"
    }
   ],
   "source": [
    "listings_data.shape"
   ]
  },
  {
   "cell_type": "code",
   "execution_count": 46,
   "metadata": {},
   "outputs": [
    {
     "data": {
      "text/plain": [
       "0                                     An Oasis in the City\n",
       "1        Unique Designer Rooftop Apartment in City Loca...\n",
       "2                      Private room for your Bondi holiday\n",
       "3                   Sunny Darlinghurst Warehouse Apartment\n",
       "4                            Studio Yindi @ Mosman, Sydney\n",
       "                               ...                        \n",
       "22654                                               超大豪华套房\n",
       "22655                                 Six on Orwell Street\n",
       "22656                                          Sunny Bondi\n",
       "22657                           1 bed apartment with study\n",
       "22658                                               温馨舒适房间\n",
       "Name: name, Length: 22659, dtype: object"
      ]
     },
     "execution_count": 46,
     "metadata": {},
     "output_type": "execute_result"
    }
   ],
   "source": [
    "listings_data.name\n",
    "\n",
    "# I would like to be shown how to make count a specific word that shows up in these descriptions. \n",
    "# What sort of code can you write for wordy desciptions"
   ]
  },
  {
   "cell_type": "code",
   "execution_count": 47,
   "metadata": {},
   "outputs": [
    {
     "name": "stdout",
     "output_type": "stream",
     "text": [
      "MadeComfy                           232\n",
      "David                               221\n",
      "L'Abode Accommodation Specialist    175\n",
      "Ken                                 161\n",
      "Michael                             153\n",
      "                                   ... \n",
      "Brayan                                1\n",
      "Anne-Lise                             1\n",
      "Hui                                   1\n",
      "Miria                                 1\n",
      "Edin                                  1\n",
      "Name: host_name, Length: 5397, dtype: int64\n"
     ]
    }
   ],
   "source": [
    "hnc = listings_data[\"host_name\"].value_counts()\n",
    "print(hnc)\n",
    "# how do I show more of this data? How do I make it show me past Michael???"
   ]
  },
  {
   "cell_type": "code",
   "execution_count": 48,
   "metadata": {},
   "outputs": [
    {
     "data": {
      "text/plain": [
       "<AxesSubplot:>"
      ]
     },
     "execution_count": 48,
     "metadata": {},
     "output_type": "execute_result"
    },
    {
     "data": {
      "image/png": "[encoded data removed]",
      "text/plain": [
       "<Figure size 720x360 with 1 Axes>"
      ]
     },
     "metadata": {
      "needs_background": "light"
     },
     "output_type": "display_data"
    }
   ],
   "source": [
    "hnc[hnc > 47].plot(kind=\"bar\")"
   ]
  },
  {
   "cell_type": "code",
   "execution_count": 103,
   "metadata": {},
   "outputs": [
    {
     "data": {
      "text/plain": [
       "id                                                                         10556199.0\n",
       "listing_url                                     https://www.airbnb.com/rooms/10556199\n",
       "scrape_id                                                            20200000000000.0\n",
       "last_scraped                                                                14/3/2023\n",
       "source                                                                previous scrape\n",
       "                                                                ...                  \n",
       "calculated_host_listings_count                                                      1\n",
       "calculated_host_listings_count_entire_homes                                         0\n",
       "calculated_host_listings_count_private_rooms                                        1\n",
       "calculated_host_listings_count_shared_rooms                                         0\n",
       "reviews_per_month                                                                0.01\n",
       "Name: 3359, Length: 75, dtype: object"
      ]
     },
     "execution_count": 103,
     "metadata": {},
     "output_type": "execute_result"
    }
   ],
   "source": [
    "madecomfy = listings_data.iloc[3359]\n",
    "madecomfy"
   ]
  },
  {
   "cell_type": "code",
   "execution_count": 50,
   "metadata": {},
   "outputs": [
    {
     "name": "stdout",
     "output_type": "stream",
     "text": [
      "2009-06-16 00:00:00 2023-03-08 00:00:00\n"
     ]
    },
    {
     "data": {
      "text/plain": [
       "<AxesSubplot:>"
      ]
     },
     "execution_count": 50,
     "metadata": {},
     "output_type": "execute_result"
    },
    {
     "data": {
      "image/png": "[encoded data removed]",
      "text/plain": [
       "<Figure size 720x360 with 1 Axes>"
      ]
     },
     "metadata": {
      "needs_background": "light"
     },
     "output_type": "display_data"
    }
   ],
   "source": [
    "first_date = listings_data.host_since.min()\n",
    "last_date = listings_data.host_since.max()\n",
    "print(first_date,last_date)\n",
    "\n",
    "hsc = listings_data[\"host_since\"].value_counts()\n",
    "\n",
    "hsc[hsc > 26].plot(kind = \"bar\")"
   ]
  },
  {
   "cell_type": "code",
   "execution_count": 51,
   "metadata": {},
   "outputs": [
    {
     "data": {
      "text/plain": [
       "Sydney, Australia                        5554\n",
       "New South Wales, Australia               1974\n",
       "Bondi Beach, Australia                    548\n",
       "Australia                                 445\n",
       "Manly, Australia                          377\n",
       "                                         ... \n",
       "Prahran, Australia                          1\n",
       "Saint-Maximin-la-Sainte-Baume, France       1\n",
       "Tongyeong-si, South Korea                   1\n",
       "Susegana, Italy                             1\n",
       "Tanunda, Australia                          1\n",
       "Name: host_location, Length: 1057, dtype: int64"
      ]
     },
     "execution_count": 51,
     "metadata": {},
     "output_type": "execute_result"
    }
   ],
   "source": [
    "listings_data[\"host_location\"].value_counts()"
   ]
  },
  {
   "cell_type": "code",
   "execution_count": 52,
   "metadata": {},
   "outputs": [],
   "source": [
    "# listings_data['host_location'] = listings_data['host_location'].str.replace('Australia', '', regex=True)"
   ]
  },
  {
   "cell_type": "code",
   "execution_count": 53,
   "metadata": {},
   "outputs": [
    {
     "data": {
      "text/plain": [
       "<AxesSubplot:>"
      ]
     },
     "execution_count": 53,
     "metadata": {},
     "output_type": "execute_result"
    },
    {
     "data": {
      "image/png": "[encoded data removed]",
      "text/plain": [
       "<Figure size 720x360 with 1 Axes>"
      ]
     },
     "metadata": {
      "needs_background": "light"
     },
     "output_type": "display_data"
    }
   ],
   "source": [
    "hlc = listings_data[\"host_location\"].value_counts()\n",
    "hlc[hlc > 50].plot(kind = \"bar\")"
   ]
  },
  {
   "cell_type": "code",
   "execution_count": 54,
   "metadata": {},
   "outputs": [],
   "source": [
    "df_new = listings_data.loc[(listings_data[\"host_location\"].str.count(\"Australia\") < 1)]"
   ]
  },
  {
   "cell_type": "code",
   "execution_count": 55,
   "metadata": {},
   "outputs": [
    {
     "data": {
      "text/plain": [
       "'Los Angeles, CA'"
      ]
     },
     "execution_count": 55,
     "metadata": {},
     "output_type": "execute_result"
    }
   ],
   "source": [
    "listings_data.host_location.iloc[16]"
   ]
  },
  {
   "cell_type": "code",
   "execution_count": 56,
   "metadata": {},
   "outputs": [
    {
     "data": {
      "text/plain": [
       "London, United Kingdom     114\n",
       "England, United Kingdom     25\n",
       "New York, NY                25\n",
       "Auckland, New Zealand       23\n",
       "Paris, France               22\n",
       "                          ... \n",
       "Bedwas, United Kingdom       1\n",
       "Přibice, Czechia             1\n",
       "Salt Lake City, UT           1\n",
       "Limeira, Brazil              1\n",
       "Makawao, HI                  1\n",
       "Name: host_location, Length: 363, dtype: int64"
      ]
     },
     "execution_count": 56,
     "metadata": {},
     "output_type": "execute_result"
    }
   ],
   "source": [
    "count = df_new[\"host_location\"].value_counts()\n",
    "count"
   ]
  },
  {
   "cell_type": "code",
   "execution_count": 57,
   "metadata": {},
   "outputs": [
    {
     "data": {
      "text/plain": [
       "<AxesSubplot:>"
      ]
     },
     "execution_count": 57,
     "metadata": {},
     "output_type": "execute_result"
    },
    {
     "data": {
      "image/png": "[encoded data removed]",
      "text/plain": [
       "<Figure size 720x360 with 1 Axes>"
      ]
     },
     "metadata": {
      "needs_background": "light"
     },
     "output_type": "display_data"
    }
   ],
   "source": [
    "count[count > 3].plot(kind = \"bar\")"
   ]
  },
  {
   "cell_type": "code",
   "execution_count": 58,
   "metadata": {},
   "outputs": [
    {
     "data": {
      "text/plain": [
       "1      240\n",
       "2       57\n",
       "3       24\n",
       "4        9\n",
       "5        8\n",
       "6        4\n",
       "7        3\n",
       "8        3\n",
       "9        2\n",
       "10       2\n",
       "25       2\n",
       "11       2\n",
       "12       1\n",
       "13       1\n",
       "17       1\n",
       "18       1\n",
       "22       1\n",
       "23       1\n",
       "114      1\n",
       "Name: host_location, dtype: int64"
      ]
     },
     "execution_count": 58,
     "metadata": {},
     "output_type": "execute_result"
    }
   ],
   "source": [
    "# how do I add value counts together? I have value counts for international locations, and the overall number of listings.\n",
    "# I want to show percentage of international locations. \n",
    "\n",
    "count.value_counts() # I could manually figure it out: 900. There are 900 international hosts. Approx 4%."
   ]
  },
  {
   "cell_type": "code",
   "execution_count": 59,
   "metadata": {},
   "outputs": [
    {
     "data": {
      "text/plain": [
       "0"
      ]
     },
     "execution_count": 59,
     "metadata": {},
     "output_type": "execute_result"
    }
   ],
   "source": [
    "(900//22658)"
   ]
  },
  {
   "cell_type": "code",
   "execution_count": 60,
   "metadata": {},
   "outputs": [
    {
     "data": {
      "text/plain": [
       "100%    8139\n",
       "0%       458\n",
       "90%      409\n",
       "98%      380\n",
       "99%      303\n",
       "91%      180\n",
       "97%      176\n",
       "96%      119\n",
       "80%      118\n",
       "58%       93\n",
       "93%       88\n",
       "95%       82\n",
       "50%       81\n",
       "92%       78\n",
       "67%       52\n",
       "86%       49\n",
       "75%       47\n",
       "94%       37\n",
       "83%       33\n",
       "88%       29\n",
       "20%       28\n",
       "33%       26\n",
       "82%       22\n",
       "84%       21\n",
       "70%       21\n",
       "85%       19\n",
       "60%       18\n",
       "89%       13\n",
       "40%       10\n",
       "87%       10\n",
       "13%       10\n",
       "25%        9\n",
       "63%        7\n",
       "81%        6\n",
       "78%        6\n",
       "74%        5\n",
       "71%        4\n",
       "56%        3\n",
       "43%        3\n",
       "32%        2\n",
       "73%        2\n",
       "72%        1\n",
       "55%        1\n",
       "44%        1\n",
       "57%        1\n",
       "29%        1\n",
       "Name: host_response_rate, dtype: int64"
      ]
     },
     "execution_count": 60,
     "metadata": {},
     "output_type": "execute_result"
    }
   ],
   "source": [
    "listings_data[\"host_response_rate\"].value_counts()"
   ]
  },
  {
   "cell_type": "code",
   "execution_count": 61,
   "metadata": {},
   "outputs": [
    {
     "data": {
      "text/plain": [
       "100%    3818\n",
       "99%     1131\n",
       "98%      855\n",
       "0%       417\n",
       "97%      396\n",
       "        ... \n",
       "26%        2\n",
       "13%        1\n",
       "28%        1\n",
       "11%        1\n",
       "41%        1\n",
       "Name: host_acceptance_rate, Length: 84, dtype: int64"
      ]
     },
     "execution_count": 61,
     "metadata": {},
     "output_type": "execute_result"
    }
   ],
   "source": [
    "listings_data[\"host_acceptance_rate\"].value_counts()"
   ]
  },
  {
   "cell_type": "code",
   "execution_count": 62,
   "metadata": {},
   "outputs": [
    {
     "data": {
      "text/plain": [
       "f    19520\n",
       "t     3121\n",
       "Name: host_is_superhost, dtype: int64"
      ]
     },
     "execution_count": 62,
     "metadata": {},
     "output_type": "execute_result"
    }
   ],
   "source": [
    "listings_data[\"host_is_superhost\"].value_counts()"
   ]
  },
  {
   "cell_type": "code",
   "execution_count": 63,
   "metadata": {},
   "outputs": [
    {
     "data": {
      "text/plain": [
       "<AxesSubplot:>"
      ]
     },
     "execution_count": 63,
     "metadata": {},
     "output_type": "execute_result"
    },
    {
     "data": {
      "image/png": "[encoded data removed]",
      "text/plain": [
       "<Figure size 720x360 with 1 Axes>"
      ]
     },
     "metadata": {
      "needs_background": "light"
     },
     "output_type": "display_data"
    }
   ],
   "source": [
    "hlcc = listings_data[\"host_listings_count\"].value_counts()\n",
    "hlcc.plot(kind = \"bar\")\n",
    "\n",
    "# how do I figure out who it is who has 951 listings? is it using iloc?\n",
    "# I kind of cheated and found it in excel :) it is MadeComfy who has 951. "
   ]
  },
  {
   "cell_type": "code",
   "execution_count": 64,
   "metadata": {},
   "outputs": [
    {
     "data": {
      "text/plain": [
       "t    18782\n",
       "f     3875\n",
       "Name: host_identity_verified, dtype: int64"
      ]
     },
     "execution_count": 64,
     "metadata": {},
     "output_type": "execute_result"
    }
   ],
   "source": [
    "listings_data[\"host_identity_verified\"].value_counts()"
   ]
  },
  {
   "cell_type": "code",
   "execution_count": 65,
   "metadata": {},
   "outputs": [
    {
     "data": {
      "text/plain": [
       "Sydney              5019\n",
       "Waverley            2898\n",
       "Randwick            1820\n",
       "Warringah           1220\n",
       "Manly               1108\n",
       "Pittwater           1077\n",
       "Woollahra            871\n",
       "North Sydney         823\n",
       "Marrickville         679\n",
       "Leichhardt           548\n",
       "Sutherland Shire     467\n",
       "Rockdale             449\n",
       "Ryde                 448\n",
       "Botany Bay           376\n",
       "Willoughby           371\n",
       "Parramatta           369\n",
       "Auburn               356\n",
       "Hornsby              348\n",
       "Mosman               315\n",
       "Canada Bay           305\n",
       "The Hills Shire      273\n",
       "Canterbury           247\n",
       "Blacktown            241\n",
       "Ku-Ring-Gai          238\n",
       "Burwood              229\n",
       "Lane Cove            189\n",
       "Ashfield             186\n",
       "Bankstown            166\n",
       "Penrith              151\n",
       "Hurstville           137\n",
       "Strathfield          136\n",
       "City Of Kogarah      132\n",
       "Liverpool            131\n",
       "Fairfield            106\n",
       "Campbelltown          75\n",
       "Holroyd               67\n",
       "Camden                57\n",
       "Hunters Hill          31\n",
       "Name: neighbourhood_cleansed, dtype: int64"
      ]
     },
     "execution_count": 65,
     "metadata": {},
     "output_type": "execute_result"
    }
   ],
   "source": [
    "listings_data[\"neighbourhood_cleansed\"].value_counts()\n",
    "\n",
    "# Sydney as in CBD and inner city suburbs. Waverly is like Bondi and stuff"
   ]
  },
  {
   "cell_type": "code",
   "execution_count": 66,
   "metadata": {},
   "outputs": [
    {
     "data": {
      "text/plain": [
       "<AxesSubplot:>"
      ]
     },
     "execution_count": 66,
     "metadata": {},
     "output_type": "execute_result"
    },
    {
     "data": {
      "image/png": "[encoded data removed]",
      "text/plain": [
       "<Figure size 720x360 with 1 Axes>"
      ]
     },
     "metadata": {
      "needs_background": "light"
     },
     "output_type": "display_data"
    }
   ],
   "source": [
    "ptc = listings_data[\"property_type\"].value_counts()\n",
    "ptc[ptc > 12].plot(kind = \"bar\")"
   ]
  },
  {
   "cell_type": "code",
   "execution_count": 67,
   "metadata": {},
   "outputs": [
    {
     "data": {
      "text/plain": [
       "2     9061\n",
       "4     4722\n",
       "6     2044\n",
       "1     1956\n",
       "3     1433\n",
       "5     1154\n",
       "8     1046\n",
       "7      424\n",
       "10     400\n",
       "9      157\n",
       "12     114\n",
       "11      58\n",
       "16      39\n",
       "14      31\n",
       "13      12\n",
       "15       8\n",
       "Name: accommodates, dtype: int64"
      ]
     },
     "execution_count": 67,
     "metadata": {},
     "output_type": "execute_result"
    }
   ],
   "source": [
    "listings_data[\"accommodates\"].value_counts()"
   ]
  },
  {
   "cell_type": "code",
   "execution_count": 68,
   "metadata": {},
   "outputs": [
    {
     "data": {
      "text/plain": [
       "1.0     11428\n",
       "2.0      5433\n",
       "3.0      2407\n",
       "4.0      1394\n",
       "5.0       527\n",
       "6.0        93\n",
       "7.0        11\n",
       "10.0        4\n",
       "9.0         2\n",
       "11.0        1\n",
       "8.0         1\n",
       "13.0        1\n",
       "Name: bedrooms, dtype: int64"
      ]
     },
     "execution_count": 68,
     "metadata": {},
     "output_type": "execute_result"
    }
   ],
   "source": [
    "listings_data[\"bedrooms\"].value_counts()"
   ]
  },
  {
   "cell_type": "code",
   "execution_count": 69,
   "metadata": {},
   "outputs": [
    {
     "data": {
      "text/plain": [
       "'amenities'"
      ]
     },
     "execution_count": 69,
     "metadata": {},
     "output_type": "execute_result"
    }
   ],
   "source": [
    "\"amenities\"\n",
    "# feel like there could be something I could do with this one, but not sure what"
   ]
  },
  {
   "cell_type": "code",
   "execution_count": 98,
   "metadata": {},
   "outputs": [
    {
     "data": {
      "text/plain": [
       "<AxesSubplot:>"
      ]
     },
     "execution_count": 98,
     "metadata": {},
     "output_type": "execute_result"
    },
    {
     "data": {
      "image/png": "[encoded data removed]",
      "text/plain": [
       "<Figure size 720x360 with 1 Axes>"
      ]
     },
     "metadata": {
      "needs_background": "light"
     },
     "output_type": "display_data"
    }
   ],
   "source": [
    "# listings_data. price [listings_data.price  > 700].hist()\n",
    "\n",
    "# daily price in aud\n",
    "\n",
    "listings_data[' price '][listings_data[' price '] < 1000].hist()"
   ]
  },
  {
   "cell_type": "code",
   "execution_count": 99,
   "metadata": {},
   "outputs": [
    {
     "data": {
      "text/plain": [
       "<AxesSubplot:>"
      ]
     },
     "execution_count": 99,
     "metadata": {},
     "output_type": "execute_result"
    },
    {
     "data": {
      "image/png": "[encoded data removed]",
      "text/plain": [
       "<Figure size 720x360 with 1 Axes>"
      ]
     },
     "metadata": {
      "needs_background": "light"
     },
     "output_type": "display_data"
    }
   ],
   "source": [
    "listings_data.availability_365.hist()"
   ]
  },
  {
   "cell_type": "code",
   "execution_count": 100,
   "metadata": {},
   "outputs": [
    {
     "data": {
      "text/plain": [
       "t    22518\n",
       "f      141\n",
       "Name: has_availability, dtype: int64"
      ]
     },
     "execution_count": 100,
     "metadata": {},
     "output_type": "execute_result"
    }
   ],
   "source": [
    "listings_data[\"has_availability\"].value_counts()"
   ]
  },
  {
   "cell_type": "code",
   "execution_count": 101,
   "metadata": {},
   "outputs": [
    {
     "data": {
      "text/plain": [
       "0      9712\n",
       "365     625\n",
       "89      346\n",
       "364     309\n",
       "91      299\n",
       "       ... \n",
       "215       8\n",
       "188       7\n",
       "198       7\n",
       "222       7\n",
       "202       6\n",
       "Name: availability_365, Length: 366, dtype: int64"
      ]
     },
     "execution_count": 101,
     "metadata": {},
     "output_type": "execute_result"
    }
   ],
   "source": [
    "listings_data[\"availability_365\"].value_counts()"
   ]
  },
  {
   "cell_type": "code",
   "execution_count": 102,
   "metadata": {},
   "outputs": [
    {
     "data": {
      "text/plain": [
       "<AxesSubplot:>"
      ]
     },
     "execution_count": 102,
     "metadata": {},
     "output_type": "execute_result"
    },
    {
     "data": {
      "image/png": "[encoded data removed]",
      "text/plain": [
       "<Figure size 720x360 with 1 Axes>"
      ]
     },
     "metadata": {
      "needs_background": "light"
     },
     "output_type": "display_data"
    }
   ],
   "source": [
    "listings_data.number_of_reviews[listings_data.number_of_reviews > 400].hist()"
   ]
  },
  {
   "cell_type": "code",
   "execution_count": null,
   "metadata": {},
   "outputs": [
    {
     "data": {
      "text/plain": [
       "<AxesSubplot:>"
      ]
     },
     "execution_count": 145,
     "metadata": {},
     "output_type": "execute_result"
    },
    {
     "data": {
      "image/png": "[encoded data removed]",
      "text/plain": [
       "<Figure size 720x360 with 1 Axes>"
      ]
     },
     "metadata": {
      "needs_background": "light"
     },
     "output_type": "display_data"
    }
   ],
   "source": [
    "listings_data.number_of_reviews_ltm.hist()\n",
    "# past 12 months\n",
    "# I dont understand this hist. How can u have 2.5 reviews?"
   ]
  },
  {
   "cell_type": "code",
   "execution_count": null,
   "metadata": {},
   "outputs": [
    {
     "data": {
      "text/plain": [
       "<AxesSubplot:>"
      ]
     },
     "execution_count": 146,
     "metadata": {},
     "output_type": "execute_result"
    },
    {
     "data": {
      "image/png": "[encoded data removed]",
      "text/plain": [
       "<Figure size 720x360 with 1 Axes>"
      ]
     },
     "metadata": {
      "needs_background": "light"
     },
     "output_type": "display_data"
    }
   ],
   "source": [
    "listings_data.review_scores_value.hist()"
   ]
  },
  {
   "cell_type": "code",
   "execution_count": null,
   "metadata": {},
   "outputs": [
    {
     "data": {
      "text/plain": [
       "<AxesSubplot:>"
      ]
     },
     "execution_count": 147,
     "metadata": {},
     "output_type": "execute_result"
    },
    {
     "data": {
      "image/png": "[encoded data removed]",
      "text/plain": [
       "<Figure size 720x360 with 1 Axes>"
      ]
     },
     "metadata": {
      "needs_background": "light"
     },
     "output_type": "display_data"
    }
   ],
   "source": [
    "listings_data.review_scores_rating.hist()"
   ]
  },
  {
   "cell_type": "code",
   "execution_count": null,
   "metadata": {},
   "outputs": [
    {
     "data": {
      "text/plain": [
       "<AxesSubplot:>"
      ]
     },
     "execution_count": 148,
     "metadata": {},
     "output_type": "execute_result"
    },
    {
     "data": {
      "image/png": "[encoded data removed]",
      "text/plain": [
       "<Figure size 720x360 with 1 Axes>"
      ]
     },
     "metadata": {
      "needs_background": "light"
     },
     "output_type": "display_data"
    }
   ],
   "source": [
    "listings_data.review_scores_cleanliness.hist()"
   ]
  },
  {
   "cell_type": "code",
   "execution_count": null,
   "metadata": {},
   "outputs": [
    {
     "data": {
      "text/plain": [
       "<AxesSubplot:>"
      ]
     },
     "execution_count": 152,
     "metadata": {},
     "output_type": "execute_result"
    },
    {
     "data": {
      "image/png": "[encoded data removed]",
      "text/plain": [
       "<Figure size 720x360 with 1 Axes>"
      ]
     },
     "metadata": {
      "needs_background": "light"
     },
     "output_type": "display_data"
    }
   ],
   "source": [
    "listings_data.review_scores_accuracy[listings_data.review_scores_accuracy < 4].hist()"
   ]
  },
  {
   "cell_type": "code",
   "execution_count": 106,
   "metadata": {},
   "outputs": [
    {
     "data": {
      "text/plain": [
       "1125    13967\n",
       "365      3973\n",
       "90        958\n",
       "30        433\n",
       "180       330\n",
       "        ...  \n",
       "444         1\n",
       "105         1\n",
       "140         1\n",
       "192         1\n",
       "88          1\n",
       "Name: maximum_nights, Length: 177, dtype: int64"
      ]
     },
     "execution_count": 106,
     "metadata": {},
     "output_type": "execute_result"
    }
   ],
   "source": [
    "listings_data.maximum_nights.value_counts()"
   ]
  },
  {
   "cell_type": "code",
   "execution_count": null,
   "metadata": {},
   "outputs": [],
   "source": [
    "listings_data[\"neighbourhood_cleansed\"].value_counts()\n",
    "\n",
    "# Sydney as in CBD and inner city suburbs. Waverly is like Bondi and stuff"
   ]
  },
  {
   "cell_type": "markdown",
   "metadata": {},
   "source": [
    "Majority of airbnbs are in City of Sydney, Waverly covering Bondi, and beachside suburbs"
   ]
  }
 ],
 "metadata": {
  "kernelspec": {
   "display_name": "Python 3.10.5 64-bit (windows store)",
   "language": "python",
   "name": "python3"
  },
  "language_info": {
   "codemirror_mode": {
    "name": "ipython",
    "version": 3
   },
   "file_extension": ".py",
   "mimetype": "text/x-python",
   "name": "python",
   "nbconvert_exporter": "python",
   "pygments_lexer": "ipython3",
   "version": "3.9.6"
  },
  "vscode": {
   "interpreter": {
    "hash": "c8476df7f795fd1f4977a4526e3f7a881ff6c8ddf4dfdde2439ce5eb695d0765"
   }
  }
 },
 "nbformat": 4,
 "nbformat_minor": 1
}
